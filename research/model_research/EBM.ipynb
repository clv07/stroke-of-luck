{
    "cells": [
        {
            "cell_type": "code",
            "execution_count": 15,
            "metadata": {},
            "outputs": [],
            "source": [
                "# Import libraries\n",
                "import numpy as np\n",
                "import pandas as pd\n",
                "import matplotlib.pyplot as plt\n",
                "import seaborn as sns\n",
                "\n",
                "from sklearn.model_selection import train_test_split\n",
                "from sklearn.metrics import accuracy_score, confusion_matrix, classification_report\n",
                "\n",
                "# Import the EBM classifier\n",
                "from interpret.glassbox import ExplainableBoostingClassifier\n",
                "from interpret import show\n",
                "\n",
                "# Set plot style\n",
                "sns.set(style='whitegrid')"
            ]
        },
        {
            "cell_type": "code",
            "execution_count": 16,
            "metadata": {},
            "outputs": [
                {
                    "name": "stdout",
                    "output_type": "stream",
                    "text": [
                        "  PatientID                              12SL_Codes Source  \\\n",
                        "0   HR00008       22,542,1665,533,1666,780,831,1699  PTBXL   \n",
                        "1   HR00077                         22,964,821,1699  PTBXL   \n",
                        "2   HR00085  22,542,1665,531,1666,1682,740,831,1699  PTBXL   \n",
                        "3   HR00103                     23,470,780,831,1699  PTBXL   \n",
                        "4   HR00128                    22,1682,780,831,1699  PTBXL   \n",
                        "\n",
                        "                                          Phys_Codes  MI_12SL  MI_Phys  \\\n",
                        "0          164865005, 164951009, 39732003, 426783006        1        1   \n",
                        "1                     426783006, 54329005, 713426002        1        1   \n",
                        "2                                          426783006        1        0   \n",
                        "3  164865005, 164951009, 39732003, 427084000, 445...        1        1   \n",
                        "4                                          164934002        1        0   \n",
                        "\n",
                        "   TestID  PatientAge  Gender AcquisitionDateTime_DT  ...  STDOWN_V6  \\\n",
                        "0       8         NaN     NaN    2020-04-23 07:59:54  ...          0   \n",
                        "1      77         NaN     NaN    2020-04-23 07:59:58  ...          0   \n",
                        "2      85         NaN     NaN    2020-04-23 07:59:58  ...          0   \n",
                        "3     103         NaN     NaN    2020-04-23 07:59:58  ...          0   \n",
                        "4     128         NaN     NaN    2020-04-23 08:00:00  ...          2   \n",
                        "\n",
                        "   STELEV_V6  JELEV_V6  DLTWV_V6  STINJ_V6  PPDEEP_V6  QRS_T_REVERSE_V6  \\\n",
                        "0          0         0         0         0          0                 0   \n",
                        "1          0         0         0         0          0                 0   \n",
                        "2          4         0         0         0          0                 0   \n",
                        "3          0         0         0         0          0                 0   \n",
                        "4          4         0         0         0          0                 0   \n",
                        "\n",
                        "   QRS_ST_REVERSE_V6  ST_T_REVERSE_V6  BRUGFLG_V6  \n",
                        "0                  0                0           0  \n",
                        "1                  0                0           0  \n",
                        "2                  0                0           0  \n",
                        "3                  0                0           0  \n",
                        "4                  0                0           0  \n",
                        "\n",
                        "[5 rows x 784 columns]\n",
                        "<class 'pandas.core.frame.DataFrame'>\n",
                        "RangeIndex: 77317 entries, 0 to 77316\n",
                        "Columns: 784 entries, PatientID to BRUGFLG_V6\n",
                        "dtypes: datetime64[ns](1), float64(7), int64(772), object(4)\n",
                        "memory usage: 462.5+ MB\n",
                        "None\n",
                        "PatientID            0\n",
                        "12SL_Codes           0\n",
                        "Source               0\n",
                        "Phys_Codes           0\n",
                        "MI_12SL              0\n",
                        "                    ..\n",
                        "PPDEEP_V6            0\n",
                        "QRS_T_REVERSE_V6     0\n",
                        "QRS_ST_REVERSE_V6    0\n",
                        "ST_T_REVERSE_V6      0\n",
                        "BRUGFLG_V6           0\n",
                        "Length: 784, dtype: int64\n"
                    ]
                }
            ],
            "source": [
                "import pandas as pd\n",
                "\n",
                "df1 = pd.read_csv('positive.csv', na_values=['NULL'])\n",
                "\n",
                "df2 = pd.read_csv('negative.csv', na_values=['NULL'])\n",
                "\n",
                "df = pd.concat([df1, df2], ignore_index=True)\n",
                "\n",
                "df['AcquisitionDateTime_DT'] = pd.to_datetime(df['AcquisitionDateTime_DT'])\n",
                "\n",
                "print(df.head())\n",
                "\n",
                "print(df.info())\n",
                "print(df.isnull().sum())"
            ]
        },
        {
            "cell_type": "code",
            "execution_count": 17,
            "metadata": {},
            "outputs": [],
            "source": [
                "from sklearn.model_selection import train_test_split\n",
                "import pandas as pd\n",
                "\n",
                "y = df[\"MI_Phys\"]\n",
                "\n",
                "analysis_codes_fn = ['HR00039', 'HR00162', 'HR00274', 'HR00282', 'HR00308']\n",
                "analysis_codes_fp = ['HR00085', 'HR00128', 'HR00222', 'HR00265', 'HR00527', 'HR00529', 'HR00855', 'HR00994', 'HR00995', 'HR01026', 'HR01528', 'HR02158', 'HR04251', 'HR04274', 'HR04841', 'HR04986', 'HR04986', 'HR05233', 'HR06205', 'HR08265', 'HR10943', 'HR11886', 'JS00403', 'Q0012', 'Q0016']\n",
                "\n",
                "df_fn_records = df[df['PatientID'].isin(analysis_codes_fn)]\n",
                "df_fp_records = df[df['PatientID'].isin(analysis_codes_fp)]\n",
                "\n",
                "df_fn_records_clean = df_fn_records.drop(columns=[\"12SL_Codes\", \"MI_12SL\",\"Phys_Codes\", \"TestID\", \"Source\",\n",
                "                                                  \"Gender\", \"PatientAge\", \"AcquisitionDateTime_DT\", \"MI_Phys\", \"POffset\", \"PAxis\", \"POnset\"])\n",
                "df_fp_records_clean = df_fp_records.drop(columns=[\"12SL_Codes\", \"MI_12SL\",\"Phys_Codes\", \"TestID\", \"Source\",\n",
                "                                                  \"Gender\", \"PatientAge\", \"AcquisitionDateTime_DT\", \"MI_Phys\", \"POffset\", \"PAxis\", \"POnset\"])\n",
                "\n",
                "X = df.drop(columns=[\"PatientID\", \"12SL_Codes\", \"Phys_Codes\", \"TestID\", \"Source\", \n",
                "                     \"Gender\", \"PatientAge\", \"AcquisitionDateTime_DT\", \"MI_Phys\", \"POffset\", \"PAxis\", \"POnset\"])\n",
                "\n",
                "#drop columns that include \"P_\", \"Full\", \"Rate\"\n",
                "\n",
                "X = X.loc[:, ~X.columns.str.contains('P_')]\n",
                "X = X.loc[:, ~X.columns.str.contains('Full')]\n",
                "X = X.loc[:, ~X.columns.str.contains('Rate')]\n",
                "\n",
                "df_fn_records_clean = df_fn_records_clean.loc[:, ~df_fn_records_clean.columns.str.contains('P_')]\n",
                "df_fn_records_clean = df_fn_records_clean.loc[:, ~df_fn_records_clean.columns.str.contains('Full')]\n",
                "df_fn_records_clean = df_fn_records_clean.loc[:, ~df_fn_records_clean.columns.str.contains('Rate')]\n",
                "\n",
                "df_fp_records_clean = df_fp_records_clean.loc[:, ~df_fp_records_clean.columns.str.contains('P_')]\n",
                "df_fp_records_clean = df_fp_records_clean.loc[:, ~df_fp_records_clean.columns.str.contains('Full')]\n",
                "df_fp_records_clean = df_fp_records_clean.loc[:, ~df_fp_records_clean.columns.str.contains('Rate')]\n",
                "\n",
                "X_train, X_test, y_train, y_test = train_test_split(X, y, test_size=0.2, stratify=y, random_state=42)\n",
                "\n",
                "# Save the original algorithm's prediction for test set before dropping it\n",
                "y_12SL = X_test[\"MI_12SL\"]\n",
                "\n",
                "# Split data based on MI_12SL classification\n",
                "X_train_pos = X_train[X_train[\"MI_12SL\"] == 1].drop(columns=[\"MI_12SL\"])\n",
                "X_train_neg = X_train[X_train[\"MI_12SL\"] == 0].drop(columns=[\"MI_12SL\"])\n",
                "X_test_pos = X_test[X_test[\"MI_12SL\"] == 1].drop(columns=[\"MI_12SL\"])\n",
                "X_test_neg = X_test[X_test[\"MI_12SL\"] == 0].drop(columns=[\"MI_12SL\"])\n",
                "\n",
                "# Ensure y labels match the correct samples\n",
                "y_train_pos = y_train.loc[X_train_pos.index]  # True positives or false positives\n",
                "y_train_neg = y_train.loc[X_train_neg.index]  # True negatives or false negatives\n",
                "y_test_pos = y_test.loc[X_test_pos.index]\n",
                "y_test_neg = y_test.loc[X_test_neg.index]\n",
                "\n",
                "X_train = X_train.drop(columns=[\"MI_12SL\"])\n",
                "X_test = X_test.drop(columns=[\"MI_12SL\"])\n",
                "\n",
                "# Extract MI_12SL predictions\n",
                "y_12SL_pos = y_12SL.loc[X_test_pos.index]  # Original classifier's labels\n",
                "y_12SL_neg = y_12SL.loc[X_test_neg.index]\n"
            ]
        },
        {
            "cell_type": "code",
            "execution_count": 18,
            "metadata": {},
            "outputs": [],
            "source": [
                "# from sklearn.impute import SimpleImputer\n",
                "\n",
                "# imputer = SimpleImputer(strategy='constant', fill_value=-1000)\n",
                "# X_train_pos = imputer.fit_transform(X_train_pos)\n",
                "# X_test_pos = imputer.transform(X_test_pos)\n",
                "# X_train_neg = imputer.fit_transform(X_train_neg)\n",
                "# X_test_neg = imputer.transform(X_test_neg)"
            ]
        },
        {
            "cell_type": "code",
            "execution_count": 19,
            "metadata": {},
            "outputs": [
                {
                    "name": "stdout",
                    "output_type": "stream",
                    "text": [
                        "Accuracy: 0.7790636507101526\n",
                        "F1 Score: 0.7338403041825095\n"
                    ]
                },
                {
                    "data": {
                        "text/html": [
                            "<!-- http://127.0.0.1:7001/2279966484448/ -->\n",
                            "<iframe src=\"http://127.0.0.1:7001/2279966484448/\" width=100% height=800 frameBorder=\"0\"></iframe>"
                        ]
                    },
                    "metadata": {},
                    "output_type": "display_data"
                }
            ],
            "source": [
                "ebm = ExplainableBoostingClassifier(\n",
                "    learning_rate=0.2,\n",
                "    max_bins=255,\n",
                "    interactions=2,\n",
                "    min_samples_leaf=10,\n",
                "    n_jobs=-2\n",
                ")\n",
                "ebm.fit(X_train_pos, y_train_pos)\n",
                "\n",
                "# Make predictions\n",
                "y_pred_pos = ebm.predict(X_test_pos)\n",
                "print(\"Accuracy:\", accuracy_score(y_test_pos, y_pred_pos))\n",
                "# F1 score\n",
                "from sklearn.metrics import f1_score\n",
                "print(\"F1 Score:\", f1_score(y_test_pos, y_pred_pos))\n",
                "\n",
                "# Show feature importance\n",
                "show(ebm.explain_global())"
            ]
        },
        {
            "cell_type": "code",
            "execution_count": 20,
            "metadata": {},
            "outputs": [
                {
                    "name": "stderr",
                    "output_type": "stream",
                    "text": [
                        "[I 2025-04-11 22:21:05,826] A new study created in memory with name: no-name-6302f6c9-4705-4bbe-8bf5-528e49a1614d\n",
                        "[I 2025-04-11 22:21:36,137] Trial 0 finished with value: 0.7172503242542153 and parameters: {'learning_rate': 0.20752254491146846, 'max_bins': 137, 'interactions': 5, 'min_samples_leaf': 26, 'max_leaves': 27}. Best is trial 0 with value: 0.7172503242542153.\n",
                        "[I 2025-04-11 22:21:56,575] Trial 1 finished with value: 0.69433465085639 and parameters: {'learning_rate': 0.017622306234499167, 'max_bins': 426, 'interactions': 3, 'min_samples_leaf': 58, 'max_leaves': 50}. Best is trial 0 with value: 0.7172503242542153.\n",
                        "[I 2025-04-11 22:22:02,300] Trial 2 finished with value: 0.7338864071474155 and parameters: {'learning_rate': 0.010085239560083906, 'max_bins': 118, 'interactions': 0, 'min_samples_leaf': 76, 'max_leaves': 3}. Best is trial 2 with value: 0.7338864071474155.\n",
                        "[I 2025-04-11 22:22:08,534] Trial 3 finished with value: 0.7125081859855926 and parameters: {'learning_rate': 0.07578349631463668, 'max_bins': 331, 'interactions': 0, 'min_samples_leaf': 85, 'max_leaves': 40}. Best is trial 2 with value: 0.7338864071474155.\n",
                        "[I 2025-04-11 22:22:28,411] Trial 4 finished with value: 0.7252888318356868 and parameters: {'learning_rate': 0.13316590734284287, 'max_bins': 334, 'interactions': 1, 'min_samples_leaf': 22, 'max_leaves': 17}. Best is trial 2 with value: 0.7338864071474155.\n",
                        "[I 2025-04-11 22:22:49,139] Trial 5 finished with value: 0.7098479841374752 and parameters: {'learning_rate': 0.017723196515352785, 'max_bins': 269, 'interactions': 2, 'min_samples_leaf': 7, 'max_leaves': 45}. Best is trial 2 with value: 0.7338864071474155.\n",
                        "[I 2025-04-11 22:22:54,746] Trial 6 finished with value: 0.7340492735312697 and parameters: {'learning_rate': 0.17429611985602547, 'max_bins': 332, 'interactions': 0, 'min_samples_leaf': 44, 'max_leaves': 3}. Best is trial 6 with value: 0.7340492735312697.\n",
                        "[I 2025-04-11 22:23:15,485] Trial 7 finished with value: 0.6997354497354498 and parameters: {'learning_rate': 0.017853426281794697, 'max_bins': 392, 'interactions': 5, 'min_samples_leaf': 47, 'max_leaves': 57}. Best is trial 6 with value: 0.7340492735312697.\n",
                        "[I 2025-04-11 22:23:35,414] Trial 8 finished with value: 0.7007978723404256 and parameters: {'learning_rate': 0.049938258637337384, 'max_bins': 192, 'interactions': 1, 'min_samples_leaf': 6, 'max_leaves': 55}. Best is trial 6 with value: 0.7340492735312697.\n",
                        "[I 2025-04-11 22:23:53,644] Trial 9 finished with value: 0.7248062015503876 and parameters: {'learning_rate': 0.07709041252106556, 'max_bins': 99, 'interactions': 1, 'min_samples_leaf': 72, 'max_leaves': 25}. Best is trial 6 with value: 0.7340492735312697.\n",
                        "[I 2025-04-11 22:24:13,006] Trial 10 finished with value: 0.7389100126742713 and parameters: {'learning_rate': 0.25218430655732493, 'max_bins': 483, 'interactions': 3, 'min_samples_leaf': 46, 'max_leaves': 3}. Best is trial 10 with value: 0.7389100126742713.\n",
                        "[I 2025-04-11 22:24:32,417] Trial 11 finished with value: 0.7391857506361323 and parameters: {'learning_rate': 0.29344504272499894, 'max_bins': 490, 'interactions': 3, 'min_samples_leaf': 44, 'max_leaves': 3}. Best is trial 11 with value: 0.7391857506361323.\n",
                        "[I 2025-04-11 22:24:51,698] Trial 12 finished with value: 0.7285531370038413 and parameters: {'learning_rate': 0.2751290260753762, 'max_bins': 501, 'interactions': 3, 'min_samples_leaf': 32, 'max_leaves': 15}. Best is trial 11 with value: 0.7391857506361323.\n",
                        "[I 2025-04-11 22:25:11,304] Trial 13 finished with value: 0.7344849648112604 and parameters: {'learning_rate': 0.2982040699413965, 'max_bins': 510, 'interactions': 4, 'min_samples_leaf': 59, 'max_leaves': 12}. Best is trial 11 with value: 0.7391857506361323.\n",
                        "[I 2025-04-11 22:25:30,933] Trial 14 finished with value: 0.7387729285262492 and parameters: {'learning_rate': 0.12508117775235336, 'max_bins': 433, 'interactions': 4, 'min_samples_leaf': 38, 'max_leaves': 2}. Best is trial 11 with value: 0.7391857506361323.\n",
                        "[I 2025-04-11 22:25:50,803] Trial 15 finished with value: 0.7026666666666667 and parameters: {'learning_rate': 0.041823659553782117, 'max_bins': 458, 'interactions': 2, 'min_samples_leaf': 62, 'max_leaves': 64}. Best is trial 11 with value: 0.7391857506361323.\n",
                        "[I 2025-04-11 22:26:09,540] Trial 16 finished with value: 0.7373096446700508 and parameters: {'learning_rate': 0.10035526173213805, 'max_bins': 247, 'interactions': 4, 'min_samples_leaf': 96, 'max_leaves': 9}. Best is trial 11 with value: 0.7391857506361323.\n",
                        "[I 2025-04-11 22:26:29,979] Trial 17 finished with value: 0.7223650385604113 and parameters: {'learning_rate': 0.17391170198223083, 'max_bins': 389, 'interactions': 3, 'min_samples_leaf': 18, 'max_leaves': 22}. Best is trial 11 with value: 0.7391857506361323.\n",
                        "[I 2025-04-11 22:26:50,374] Trial 18 finished with value: 0.717915309446254 and parameters: {'learning_rate': 0.0338278168906422, 'max_bins': 471, 'interactions': 2, 'min_samples_leaf': 50, 'max_leaves': 34}. Best is trial 11 with value: 0.7391857506361323.\n",
                        "[I 2025-04-11 22:27:09,961] Trial 19 finished with value: 0.7351627313337588 and parameters: {'learning_rate': 0.2503003767517922, 'max_bins': 396, 'interactions': 4, 'min_samples_leaf': 39, 'max_leaves': 9}. Best is trial 11 with value: 0.7391857506361323.\n",
                        "[I 2025-04-11 22:27:29,195] Trial 20 finished with value: 0.7139141742522757 and parameters: {'learning_rate': 0.13896508010638178, 'max_bins': 219, 'interactions': 3, 'min_samples_leaf': 69, 'max_leaves': 33}. Best is trial 11 with value: 0.7391857506361323.\n",
                        "[I 2025-04-11 22:27:49,169] Trial 21 finished with value: 0.7398477157360406 and parameters: {'learning_rate': 0.10985207392223675, 'max_bins': 448, 'interactions': 4, 'min_samples_leaf': 35, 'max_leaves': 3}. Best is trial 21 with value: 0.7398477157360406.\n",
                        "[I 2025-04-11 22:28:09,090] Trial 22 finished with value: 0.7392696989109545 and parameters: {'learning_rate': 0.1939196957249482, 'max_bins': 491, 'interactions': 4, 'min_samples_leaf': 32, 'max_leaves': 8}. Best is trial 21 with value: 0.7398477157360406.\n",
                        "[I 2025-04-11 22:28:29,558] Trial 23 finished with value: 0.7317073170731707 and parameters: {'learning_rate': 0.09107049127771734, 'max_bins': 449, 'interactions': 5, 'min_samples_leaf': 31, 'max_leaves': 19}. Best is trial 21 with value: 0.7398477157360406.\n",
                        "[I 2025-04-11 22:28:49,893] Trial 24 finished with value: 0.7333333333333333 and parameters: {'learning_rate': 0.2059313297966581, 'max_bins': 428, 'interactions': 4, 'min_samples_leaf': 16, 'max_leaves': 9}. Best is trial 21 with value: 0.7398477157360406.\n",
                        "[I 2025-04-11 22:29:10,274] Trial 25 finished with value: 0.7355003186743149 and parameters: {'learning_rate': 0.163395634602397, 'max_bins': 511, 'interactions': 4, 'min_samples_leaf': 34, 'max_leaves': 9}. Best is trial 21 with value: 0.7398477157360406.\n",
                        "[I 2025-04-11 22:29:29,973] Trial 26 finished with value: 0.730423620025674 and parameters: {'learning_rate': 0.11028254228715048, 'max_bins': 363, 'interactions': 5, 'min_samples_leaf': 54, 'max_leaves': 13}. Best is trial 21 with value: 0.7398477157360406.\n",
                        "[I 2025-04-11 22:29:50,523] Trial 27 finished with value: 0.7420178799489144 and parameters: {'learning_rate': 0.0667204769951468, 'max_bins': 472, 'interactions': 4, 'min_samples_leaf': 14, 'max_leaves': 7}. Best is trial 27 with value: 0.7420178799489144.\n",
                        "[I 2025-04-11 22:30:10,976] Trial 28 finished with value: 0.7204161248374512 and parameters: {'learning_rate': 0.06548403642645467, 'max_bins': 298, 'interactions': 5, 'min_samples_leaf': 13, 'max_leaves': 29}. Best is trial 27 with value: 0.7420178799489144.\n",
                        "[I 2025-04-11 22:30:31,989] Trial 29 finished with value: 0.723404255319149 and parameters: {'learning_rate': 0.031327061721179626, 'max_bins': 402, 'interactions': 4, 'min_samples_leaf': 26, 'max_leaves': 20}. Best is trial 27 with value: 0.7420178799489144.\n",
                        "[I 2025-04-11 22:30:52,323] Trial 30 finished with value: 0.7466666666666667 and parameters: {'learning_rate': 0.056699367841668645, 'max_bins': 172, 'interactions': 5, 'min_samples_leaf': 3, 'max_leaves': 7}. Best is trial 30 with value: 0.7466666666666667.\n",
                        "[I 2025-04-11 22:31:12,316] Trial 31 finished with value: 0.7479365079365079 and parameters: {'learning_rate': 0.05380786539266336, 'max_bins': 145, 'interactions': 5, 'min_samples_leaf': 3, 'max_leaves': 6}. Best is trial 31 with value: 0.7479365079365079.\n",
                        "[I 2025-04-11 22:31:32,489] Trial 32 finished with value: 0.7506361323155216 and parameters: {'learning_rate': 0.054209815677869165, 'max_bins': 175, 'interactions': 5, 'min_samples_leaf': 2, 'max_leaves': 6}. Best is trial 32 with value: 0.7506361323155216.\n",
                        "[I 2025-04-11 22:31:52,996] Trial 33 finished with value: 0.7275047862156988 and parameters: {'learning_rate': 0.054594447063484576, 'max_bins': 155, 'interactions': 5, 'min_samples_leaf': 2, 'max_leaves': 14}. Best is trial 32 with value: 0.7506361323155216.\n",
                        "[I 2025-04-11 22:32:12,983] Trial 34 finished with value: 0.7493638676844784 and parameters: {'learning_rate': 0.04268398332690537, 'max_bins': 156, 'interactions': 5, 'min_samples_leaf': 10, 'max_leaves': 6}. Best is trial 32 with value: 0.7506361323155216.\n",
                        "[I 2025-04-11 22:32:33,132] Trial 35 finished with value: 0.7479365079365079 and parameters: {'learning_rate': 0.024451464013980368, 'max_bins': 153, 'interactions': 5, 'min_samples_leaf': 2, 'max_leaves': 6}. Best is trial 32 with value: 0.7506361323155216.\n",
                        "[I 2025-04-11 22:32:52,979] Trial 36 finished with value: 0.7277386290839206 and parameters: {'learning_rate': 0.02542826867076475, 'max_bins': 65, 'interactions': 5, 'min_samples_leaf': 9, 'max_leaves': 17}. Best is trial 32 with value: 0.7506361323155216.\n",
                        "[I 2025-04-11 22:33:12,920] Trial 37 finished with value: 0.732824427480916 and parameters: {'learning_rate': 0.023731067575791298, 'max_bins': 126, 'interactions': 5, 'min_samples_leaf': 10, 'max_leaves': 12}. Best is trial 32 with value: 0.7506361323155216.\n",
                        "[I 2025-04-11 22:33:32,583] Trial 38 finished with value: 0.7115761935905821 and parameters: {'learning_rate': 0.010007309163648797, 'max_bins': 90, 'interactions': 5, 'min_samples_leaf': 21, 'max_leaves': 41}. Best is trial 32 with value: 0.7506361323155216.\n",
                        "[I 2025-04-11 22:33:52,721] Trial 39 finished with value: 0.7237354085603113 and parameters: {'learning_rate': 0.04376641032559055, 'max_bins': 189, 'interactions': 5, 'min_samples_leaf': 24, 'max_leaves': 27}. Best is trial 32 with value: 0.7506361323155216.\n",
                        "[I 2025-04-11 22:34:12,853] Trial 40 finished with value: 0.7504737839545167 and parameters: {'learning_rate': 0.02179756744227491, 'max_bins': 148, 'interactions': 5, 'min_samples_leaf': 2, 'max_leaves': 6}. Best is trial 32 with value: 0.7506361323155216.\n",
                        "[I 2025-04-11 22:34:34,176] Trial 41 finished with value: 0.7460417986067132 and parameters: {'learning_rate': 0.012941834381944012, 'max_bins': 149, 'interactions': 5, 'min_samples_leaf': 2, 'max_leaves': 5}. Best is trial 32 with value: 0.7506361323155216.\n",
                        "[I 2025-04-11 22:34:55,025] Trial 42 finished with value: 0.753015873015873 and parameters: {'learning_rate': 0.021102856020150697, 'max_bins': 221, 'interactions': 5, 'min_samples_leaf': 7, 'max_leaves': 5}. Best is trial 42 with value: 0.753015873015873.\n",
                        "[I 2025-04-11 22:35:15,629] Trial 43 finished with value: 0.7277386290839206 and parameters: {'learning_rate': 0.014229196122457289, 'max_bins': 243, 'interactions': 5, 'min_samples_leaf': 10, 'max_leaves': 12}. Best is trial 42 with value: 0.753015873015873.\n",
                        "[I 2025-04-11 22:35:36,009] Trial 44 finished with value: 0.7286722257857601 and parameters: {'learning_rate': 0.03557112278514042, 'max_bins': 200, 'interactions': 5, 'min_samples_leaf': 7, 'max_leaves': 16}. Best is trial 42 with value: 0.753015873015873.\n",
                        "[I 2025-04-11 22:35:55,883] Trial 45 finished with value: 0.7498408656906429 and parameters: {'learning_rate': 0.020124880873759826, 'max_bins': 107, 'interactions': 5, 'min_samples_leaf': 20, 'max_leaves': 6}. Best is trial 42 with value: 0.753015873015873.\n",
                        "[I 2025-04-11 22:36:17,918] Trial 46 finished with value: 0.734977862112587 and parameters: {'learning_rate': 0.01919215669445076, 'max_bins': 110, 'interactions': 4, 'min_samples_leaf': 18, 'max_leaves': 2}. Best is trial 42 with value: 0.753015873015873.\n",
                        "[I 2025-04-11 22:36:23,516] Trial 47 finished with value: 0.7300574345883855 and parameters: {'learning_rate': 0.01442509033069164, 'max_bins': 174, 'interactions': 0, 'min_samples_leaf': 13, 'max_leaves': 11}. Best is trial 42 with value: 0.753015873015873.\n",
                        "[I 2025-04-11 22:36:43,568] Trial 48 finished with value: 0.7501589319771138 and parameters: {'learning_rate': 0.021293956099211638, 'max_bins': 225, 'interactions': 5, 'min_samples_leaf': 28, 'max_leaves': 5}. Best is trial 42 with value: 0.753015873015873.\n",
                        "[I 2025-04-11 22:37:03,828] Trial 49 finished with value: 0.7258687258687259 and parameters: {'learning_rate': 0.020794250125159685, 'max_bins': 215, 'interactions': 5, 'min_samples_leaf': 20, 'max_leaves': 23}. Best is trial 42 with value: 0.753015873015873.\n",
                        "[I 2025-04-11 22:37:24,585] Trial 50 finished with value: 0.7419150285351934 and parameters: {'learning_rate': 0.028988953426525056, 'max_bins': 262, 'interactions': 4, 'min_samples_leaf': 27, 'max_leaves': 4}. Best is trial 42 with value: 0.753015873015873.\n",
                        "[I 2025-04-11 22:37:45,227] Trial 51 finished with value: 0.7469725940089229 and parameters: {'learning_rate': 0.0400928577795329, 'max_bins': 293, 'interactions': 5, 'min_samples_leaf': 6, 'max_leaves': 5}. Best is trial 42 with value: 0.753015873015873.\n",
                        "[I 2025-04-11 22:38:05,075] Trial 52 finished with value: 0.7351627313337588 and parameters: {'learning_rate': 0.01659694776447786, 'max_bins': 129, 'interactions': 5, 'min_samples_leaf': 12, 'max_leaves': 10}. Best is trial 42 with value: 0.753015873015873.\n",
                        "[I 2025-04-11 22:38:27,326] Trial 53 finished with value: 0.7418136020151134 and parameters: {'learning_rate': 0.021653609010063392, 'max_bins': 219, 'interactions': 5, 'min_samples_leaf': 16, 'max_leaves': 2}. Best is trial 42 with value: 0.753015873015873.\n",
                        "[I 2025-04-11 22:38:47,260] Trial 54 finished with value: 0.7292464878671775 and parameters: {'learning_rate': 0.012376405843999978, 'max_bins': 88, 'interactions': 5, 'min_samples_leaf': 8, 'max_leaves': 14}. Best is trial 42 with value: 0.753015873015873.\n",
                        "[I 2025-04-11 22:39:07,083] Trial 55 finished with value: 0.7447485677912158 and parameters: {'learning_rate': 0.029118091334197276, 'max_bins': 165, 'interactions': 4, 'min_samples_leaf': 23, 'max_leaves': 6}. Best is trial 42 with value: 0.753015873015873.\n",
                        "[I 2025-04-11 22:39:27,987] Trial 56 finished with value: 0.7293666026871402 and parameters: {'learning_rate': 0.016052023617267642, 'max_bins': 238, 'interactions': 5, 'min_samples_leaf': 7, 'max_leaves': 11}. Best is trial 42 with value: 0.753015873015873.\n",
                        "[I 2025-04-11 22:39:47,859] Trial 57 finished with value: 0.7072042300066094 and parameters: {'learning_rate': 0.011589974814162848, 'max_bins': 190, 'interactions': 1, 'min_samples_leaf': 29, 'max_leaves': 47}. Best is trial 42 with value: 0.753015873015873.\n",
                        "[I 2025-04-11 22:40:07,405] Trial 58 finished with value: 0.7291268323773104 and parameters: {'learning_rate': 0.026575618187110444, 'max_bins': 113, 'interactions': 4, 'min_samples_leaf': 19, 'max_leaves': 18}. Best is trial 42 with value: 0.753015873015873.\n",
                        "[I 2025-04-11 22:40:27,262] Trial 59 finished with value: 0.7484116899618806 and parameters: {'learning_rate': 0.019579140685064188, 'max_bins': 276, 'interactions': 5, 'min_samples_leaf': 90, 'max_leaves': 4}. Best is trial 42 with value: 0.753015873015873.\n",
                        "[I 2025-04-11 22:40:47,130] Trial 60 finished with value: 0.735705209656925 and parameters: {'learning_rate': 0.04694457836603407, 'max_bins': 203, 'interactions': 3, 'min_samples_leaf': 16, 'max_leaves': 9}. Best is trial 42 with value: 0.753015873015873.\n",
                        "[I 2025-04-11 22:41:07,195] Trial 61 finished with value: 0.75 and parameters: {'learning_rate': 0.018903946543137623, 'max_bins': 257, 'interactions': 5, 'min_samples_leaf': 71, 'max_leaves': 4}. Best is trial 42 with value: 0.753015873015873.\n",
                        "[I 2025-04-11 22:41:26,478] Trial 62 finished with value: 0.7452229299363057 and parameters: {'learning_rate': 0.01819106262216981, 'max_bins': 231, 'interactions': 5, 'min_samples_leaf': 76, 'max_leaves': 7}. Best is trial 42 with value: 0.753015873015873.\n",
                        "[I 2025-04-11 22:41:49,183] Trial 63 finished with value: 0.7424242424242424 and parameters: {'learning_rate': 0.021458118685485028, 'max_bins': 314, 'interactions': 5, 'min_samples_leaf': 5, 'max_leaves': 2}. Best is trial 42 with value: 0.753015873015873.\n",
                        "[I 2025-04-11 22:42:08,149] Trial 64 finished with value: 0.7051027170311465 and parameters: {'learning_rate': 0.0366775273284087, 'max_bins': 256, 'interactions': 2, 'min_samples_leaf': 81, 'max_leaves': 56}. Best is trial 42 with value: 0.753015873015873.\n",
                        "[I 2025-04-11 22:42:29,350] Trial 65 finished with value: 0.7517460317460317 and parameters: {'learning_rate': 0.015470629197080955, 'max_bins': 176, 'interactions': 5, 'min_samples_leaf': 12, 'max_leaves': 4}. Best is trial 42 with value: 0.753015873015873.\n",
                        "[I 2025-04-11 22:42:49,306] Trial 66 finished with value: 0.7404580152671756 and parameters: {'learning_rate': 0.015990000071506236, 'max_bins': 182, 'interactions': 4, 'min_samples_leaf': 60, 'max_leaves': 4}. Best is trial 42 with value: 0.753015873015873.\n",
                        "[I 2025-04-11 22:43:09,013] Trial 67 finished with value: 0.7372448979591837 and parameters: {'learning_rate': 0.014260815521328492, 'max_bins': 140, 'interactions': 5, 'min_samples_leaf': 41, 'max_leaves': 9}. Best is trial 42 with value: 0.753015873015873.\n",
                        "[I 2025-04-11 22:43:28,448] Trial 68 finished with value: 0.7126137841352406 and parameters: {'learning_rate': 0.011138088376359314, 'max_bins': 215, 'interactions': 4, 'min_samples_leaf': 64, 'max_leaves': 37}. Best is trial 42 with value: 0.753015873015873.\n",
                        "[I 2025-04-11 22:43:46,941] Trial 69 finished with value: 0.7323943661971831 and parameters: {'learning_rate': 0.022025662083608736, 'max_bins': 64, 'interactions': 5, 'min_samples_leaf': 69, 'max_leaves': 15}. Best is trial 42 with value: 0.753015873015873.\n",
                        "[I 2025-04-11 22:44:06,108] Trial 70 finished with value: 0.7404092071611253 and parameters: {'learning_rate': 0.02672549613763151, 'max_bins': 206, 'interactions': 5, 'min_samples_leaf': 56, 'max_leaves': 8}. Best is trial 42 with value: 0.753015873015873.\n",
                        "[I 2025-04-11 22:44:25,989] Trial 71 finished with value: 0.7479365079365079 and parameters: {'learning_rate': 0.08050176716585018, 'max_bins': 165, 'interactions': 5, 'min_samples_leaf': 14, 'max_leaves': 6}. Best is trial 42 with value: 0.753015873015873.\n",
                        "[I 2025-04-11 22:44:48,107] Trial 72 finished with value: 0.7519083969465649 and parameters: {'learning_rate': 0.017123376966678, 'max_bins': 279, 'interactions': 5, 'min_samples_leaf': 11, 'max_leaves': 4}. Best is trial 42 with value: 0.753015873015873.\n",
                        "[I 2025-04-11 22:45:10,404] Trial 73 finished with value: 0.7468193384223919 and parameters: {'learning_rate': 0.017215663657825026, 'max_bins': 311, 'interactions': 5, 'min_samples_leaf': 11, 'max_leaves': 4}. Best is trial 42 with value: 0.753015873015873.\n",
                        "[I 2025-04-11 22:45:31,597] Trial 74 finished with value: 0.7465145754119138 and parameters: {'learning_rate': 0.01927049949417723, 'max_bins': 233, 'interactions': 5, 'min_samples_leaf': 100, 'max_leaves': 2}. Best is trial 42 with value: 0.753015873015873.\n",
                        "[I 2025-04-11 22:45:53,596] Trial 75 finished with value: 0.705026455026455 and parameters: {'learning_rate': 0.015395690368823487, 'max_bins': 277, 'interactions': 5, 'min_samples_leaf': 5, 'max_leaves': 62}. Best is trial 42 with value: 0.753015873015873.\n",
                        "[I 2025-04-11 22:46:13,235] Trial 76 finished with value: 0.7319257837492003 and parameters: {'learning_rate': 0.023614973810939726, 'max_bins': 256, 'interactions': 5, 'min_samples_leaf': 51, 'max_leaves': 11}. Best is trial 42 with value: 0.753015873015873.\n",
                        "[I 2025-04-11 22:46:34,727] Trial 77 finished with value: 0.7388535031847133 and parameters: {'learning_rate': 0.019107324392614353, 'max_bins': 349, 'interactions': 4, 'min_samples_leaf': 17, 'max_leaves': 8}. Best is trial 42 with value: 0.753015873015873.\n",
                        "[I 2025-04-11 22:46:54,424] Trial 78 finished with value: 0.7537878787878788 and parameters: {'learning_rate': 0.030703186309611906, 'max_bins': 127, 'interactions': 5, 'min_samples_leaf': 22, 'max_leaves': 4}. Best is trial 78 with value: 0.7537878787878788.\n",
                        "[I 2025-04-11 22:47:14,701] Trial 79 finished with value: 0.7419150285351934 and parameters: {'learning_rate': 0.031519938661745406, 'max_bins': 180, 'interactions': 4, 'min_samples_leaf': 25, 'max_leaves': 3}. Best is trial 78 with value: 0.7537878787878788.\n",
                        "[I 2025-04-11 22:47:34,726] Trial 80 finished with value: 0.7518987341772152 and parameters: {'learning_rate': 0.02896012381745927, 'max_bins': 131, 'interactions': 5, 'min_samples_leaf': 9, 'max_leaves': 5}. Best is trial 78 with value: 0.7537878787878788.\n",
                        "[I 2025-04-11 22:47:54,801] Trial 81 finished with value: 0.751269035532995 and parameters: {'learning_rate': 0.023076509268269183, 'max_bins': 130, 'interactions': 5, 'min_samples_leaf': 5, 'max_leaves': 5}. Best is trial 78 with value: 0.7537878787878788.\n",
                        "[I 2025-04-11 22:48:14,633] Trial 82 finished with value: 0.747141041931385 and parameters: {'learning_rate': 0.02249664093373803, 'max_bins': 93, 'interactions': 5, 'min_samples_leaf': 4, 'max_leaves': 7}. Best is trial 78 with value: 0.7537878787878788.\n",
                        "[I 2025-04-11 22:48:34,483] Trial 83 finished with value: 0.7351627313337588 and parameters: {'learning_rate': 0.027249647437891985, 'max_bins': 127, 'interactions': 5, 'min_samples_leaf': 8, 'max_leaves': 10}. Best is trial 78 with value: 0.7537878787878788.\n",
                        "[I 2025-04-11 22:48:54,594] Trial 84 finished with value: 0.7518987341772152 and parameters: {'learning_rate': 0.031751940571992064, 'max_bins': 135, 'interactions': 5, 'min_samples_leaf': 13, 'max_leaves': 5}. Best is trial 78 with value: 0.7537878787878788.\n",
                        "[I 2025-04-11 22:49:14,346] Trial 85 finished with value: 0.7309904153354633 and parameters: {'learning_rate': 0.03259565763649036, 'max_bins': 136, 'interactions': 5, 'min_samples_leaf': 14, 'max_leaves': 13}. Best is trial 78 with value: 0.7537878787878788.\n",
                        "[I 2025-04-11 22:49:34,352] Trial 86 finished with value: 0.7419150285351934 and parameters: {'learning_rate': 0.03842805807304085, 'max_bins': 117, 'interactions': 5, 'min_samples_leaf': 11, 'max_leaves': 8}. Best is trial 78 with value: 0.7537878787878788.\n",
                        "[I 2025-04-11 22:49:55,005] Trial 87 finished with value: 0.75 and parameters: {'learning_rate': 0.02863765413303415, 'max_bins': 157, 'interactions': 5, 'min_samples_leaf': 6, 'max_leaves': 5}. Best is trial 78 with value: 0.7537878787878788.\n",
                        "[I 2025-04-11 22:50:00,328] Trial 88 finished with value: 0.7352380952380952 and parameters: {'learning_rate': 0.024533278129717468, 'max_bins': 82, 'interactions': 0, 'min_samples_leaf': 9, 'max_leaves': 2}. Best is trial 78 with value: 0.7537878787878788.\n",
                        "[I 2025-04-11 22:50:20,998] Trial 89 finished with value: 0.7560050568900126 and parameters: {'learning_rate': 0.017598484130880703, 'max_bins': 141, 'interactions': 5, 'min_samples_leaf': 15, 'max_leaves': 4}. Best is trial 89 with value: 0.7560050568900126.\n",
                        "[I 2025-04-11 22:50:40,702] Trial 90 finished with value: 0.733630006357279 and parameters: {'learning_rate': 0.017468151129785538, 'max_bins': 133, 'interactions': 5, 'min_samples_leaf': 22, 'max_leaves': 10}. Best is trial 89 with value: 0.7560050568900126.\n",
                        "[I 2025-04-11 22:51:01,034] Trial 91 finished with value: 0.7552182163187856 and parameters: {'learning_rate': 0.03364812382390934, 'max_bins': 101, 'interactions': 5, 'min_samples_leaf': 2, 'max_leaves': 4}. Best is trial 89 with value: 0.7560050568900126.\n",
                        "[I 2025-04-11 22:51:20,895] Trial 92 finished with value: 0.7501581277672359 and parameters: {'learning_rate': 0.03363932615608641, 'max_bins': 123, 'interactions': 5, 'min_samples_leaf': 14, 'max_leaves': 4}. Best is trial 89 with value: 0.7560050568900126.\n",
                        "[I 2025-04-11 22:51:41,679] Trial 93 finished with value: 0.7436548223350253 and parameters: {'learning_rate': 0.03612102449913722, 'max_bins': 167, 'interactions': 5, 'min_samples_leaf': 4, 'max_leaves': 7}. Best is trial 89 with value: 0.7560050568900126.\n",
                        "[I 2025-04-11 22:52:01,784] Trial 94 finished with value: 0.7520401757689893 and parameters: {'learning_rate': 0.030092823266454967, 'max_bins': 106, 'interactions': 5, 'min_samples_leaf': 8, 'max_leaves': 3}. Best is trial 89 with value: 0.7560050568900126.\n",
                        "[I 2025-04-11 22:52:22,451] Trial 95 finished with value: 0.7473219911783239 and parameters: {'learning_rate': 0.029213352173246238, 'max_bins': 104, 'interactions': 5, 'min_samples_leaf': 12, 'max_leaves': 2}. Best is trial 89 with value: 0.7560050568900126.\n",
                        "[I 2025-04-11 22:52:43,027] Trial 96 finished with value: 0.7517372078332281 and parameters: {'learning_rate': 0.025333905148603612, 'max_bins': 97, 'interactions': 5, 'min_samples_leaf': 8, 'max_leaves': 3}. Best is trial 89 with value: 0.7560050568900126.\n",
                        "[I 2025-04-11 22:53:03,360] Trial 97 finished with value: 0.7533123028391168 and parameters: {'learning_rate': 0.031260040667272386, 'max_bins': 82, 'interactions': 5, 'min_samples_leaf': 9, 'max_leaves': 3}. Best is trial 89 with value: 0.7560050568900126.\n",
                        "[I 2025-04-11 22:53:22,724] Trial 98 finished with value: 0.7406467977171846 and parameters: {'learning_rate': 0.03079369643438985, 'max_bins': 76, 'interactions': 5, 'min_samples_leaf': 15, 'max_leaves': 8}. Best is trial 89 with value: 0.7560050568900126.\n",
                        "[I 2025-04-11 22:53:42,222] Trial 99 finished with value: 0.7204648160103292 and parameters: {'learning_rate': 0.01338430710155725, 'max_bins': 73, 'interactions': 4, 'min_samples_leaf': 18, 'max_leaves': 31}. Best is trial 89 with value: 0.7560050568900126.\n"
                    ]
                },
                {
                    "name": "stdout",
                    "output_type": "stream",
                    "text": [
                        "Best parameters: {'learning_rate': 0.017598484130880703, 'max_bins': 141, 'interactions': 5, 'min_samples_leaf': 15, 'max_leaves': 4}\n",
                        "Best F1 score: 0.7560050568900126\n"
                    ]
                }
            ],
            "source": [
                "import optuna\n",
                "from interpret.glassbox import ExplainableBoostingClassifier\n",
                "from sklearn.metrics import f1_score\n",
                "from sklearn.model_selection import train_test_split\n",
                "import numpy as np\n",
                "\n",
                "def objective(trial):\n",
                "    # Define the search space\n",
                "    learning_rate = trial.suggest_float(\"learning_rate\", 0.01, 0.3, log=True)\n",
                "    max_bins = trial.suggest_int(\"max_bins\", 64, 512)\n",
                "    interactions = trial.suggest_int(\"interactions\", 0, 5)\n",
                "    min_samples_leaf = trial.suggest_int(\"min_samples_leaf\", 2, 100)\n",
                "    max_leaves = trial.suggest_int(\"max_leaves\", 2, 64)\n",
                "    \n",
                "    ebm = ExplainableBoostingClassifier(\n",
                "        learning_rate=learning_rate,\n",
                "        max_bins=max_bins,\n",
                "        interactions=interactions,\n",
                "        min_samples_leaf=min_samples_leaf,\n",
                "        max_leaves=max_leaves,\n",
                "        n_jobs=-2\n",
                "    )\n",
                "    \n",
                "    ebm.fit(X_train_pos, y_train_pos)\n",
                "    y_pred = ebm.predict(X_test_pos)\n",
                "\n",
                "    return f1_score(y_test_pos, y_pred)\n",
                "\n",
                "# Run the study\n",
                "study = optuna.create_study(direction=\"maximize\")\n",
                "study.optimize(objective, n_trials=100)\n",
                "\n",
                "print(\"Best parameters:\", study.best_params)\n",
                "print(\"Best F1 score:\", study.best_value)\n"
            ]
        },
        {
            "cell_type": "code",
            "execution_count": 21,
            "metadata": {},
            "outputs": [
                {
                    "name": "stdout",
                    "output_type": "stream",
                    "text": [
                        "              precision    recall  f1-score   support\n",
                        "\n",
                        "           0       0.82      0.83      0.83      1108\n",
                        "           1       0.76      0.75      0.76       793\n",
                        "\n",
                        "    accuracy                           0.80      1901\n",
                        "   macro avg       0.79      0.79      0.79      1901\n",
                        "weighted avg       0.80      0.80      0.80      1901\n",
                        "\n"
                    ]
                }
            ],
            "source": [
                "best_ebm = ExplainableBoostingClassifier(\n",
                "    **study.best_params,\n",
                "    n_jobs=-2\n",
                ")\n",
                "best_ebm.fit(X_train_pos, y_train_pos)\n",
                "\n",
                "from sklearn.metrics import classification_report\n",
                "print(classification_report(y_test_pos, best_ebm.predict(X_test_pos)))\n"
            ]
        },
        {
            "cell_type": "markdown",
            "metadata": {},
            "source": [
                "## Model Evaluation"
            ]
        },
        {
            "cell_type": "code",
            "execution_count": 22,
            "metadata": {},
            "outputs": [
                {
                    "name": "stdout",
                    "output_type": "stream",
                    "text": [
                        "Test Accuracy: 0.7790636507101526\n",
                        "              precision    recall  f1-score   support\n",
                        "\n",
                        "           0       0.81      0.81      0.81      1108\n",
                        "           1       0.74      0.73      0.73       793\n",
                        "\n",
                        "    accuracy                           0.78      1901\n",
                        "   macro avg       0.77      0.77      0.77      1901\n",
                        "weighted avg       0.78      0.78      0.78      1901\n",
                        "\n"
                    ]
                },
                {
                    "data": {
                        "image/png": "[encoded data removed]",
                        "text/plain": [
                            "<Figure size 640x480 with 2 Axes>"
                        ]
                    },
                    "metadata": {},
                    "output_type": "display_data"
                }
            ],
            "source": [
                "# Make predictions on the test set\n",
                "y_pred = ebm.predict(X_test_pos)\n",
                "\n",
                "# Evaluate accuracy\n",
                "accuracy = accuracy_score(y_test_pos, y_pred)\n",
                "print('Test Accuracy:', accuracy)\n",
                "\n",
                "# Display classification report\n",
                "print(classification_report(y_test_pos, y_pred))\n",
                "\n",
                "# Plot confusion matrix\n",
                "cm = confusion_matrix(y_test_pos, y_pred)\n",
                "sns.heatmap(cm, annot=True, fmt='d', cmap='Blues')\n",
                "plt.xlabel('Predicted')\n",
                "plt.ylabel('True')\n",
                "plt.show()"
            ]
        },
        {
            "cell_type": "code",
            "execution_count": 23,
            "metadata": {},
            "outputs": [
                {
                    "data": {
                        "text/html": [
                            "<!-- http://127.0.0.1:7001/2280335840304/ -->\n",
                            "<iframe src=\"http://127.0.0.1:7001/2280335840304/\" width=100% height=800 frameBorder=\"0\"></iframe>"
                        ]
                    },
                    "metadata": {},
                    "output_type": "display_data"
                },
                {
                    "data": {
                        "text/html": [
                            "<!-- http://127.0.0.1:7001/2280615231808/ -->\n",
                            "<iframe src=\"http://127.0.0.1:7001/2280615231808/\" width=100% height=800 frameBorder=\"0\"></iframe>"
                        ]
                    },
                    "metadata": {},
                    "output_type": "display_data"
                }
            ],
            "source": [
                "# Global explanation\n",
                "global_explanation = ebm.explain_global()\n",
                "show(global_explanation)\n",
                "\n",
                "# Local explanation for the first 5 instances\n",
                "local_explanation = ebm.explain_local(X_test_pos.iloc[:5], y_test_pos.iloc[:5])\n",
                "show(local_explanation)"
            ]
        },
        {
            "cell_type": "code",
            "execution_count": 24,
            "metadata": {},
            "outputs": [
                {
                    "name": "stdout",
                    "output_type": "stream",
                    "text": [
                        "Accuracy: 0.8557103885571039\n",
                        "F1 Score: 0.40643008795875035\n"
                    ]
                },
                {
                    "data": {
                        "text/html": [
                            "<!-- http://127.0.0.1:7001/2279972549888/ -->\n",
                            "<iframe src=\"http://127.0.0.1:7001/2279972549888/\" width=100% height=800 frameBorder=\"0\"></iframe>"
                        ]
                    },
                    "metadata": {},
                    "output_type": "display_data"
                }
            ],
            "source": [
                "ebm = ExplainableBoostingClassifier(\n",
                "    learning_rate=0.001,\n",
                "    max_bins=512,\n",
                "    interactions=100,\n",
                "    min_samples_leaf=100,\n",
                "    early_stopping_rounds=50,\n",
                "    n_jobs=-2, \n",
                "    random_state=42\n",
                ")\n",
                "\n",
                "from sklearn.utils.class_weight import compute_sample_weight\n",
                "\n",
                "# Compute weights based on class distribution\n",
                "sample_weights = compute_sample_weight(class_weight=\"balanced\", y=y_train_neg)\n",
                "\n",
                "# Train EBM with sample weights\n",
                "ebm.fit(X_train_neg, y_train_neg, sample_weight=sample_weights)\n",
                "\n",
                "#ebm.fit(X_train_neg, y_train_neg)\n",
                "\n",
                "# Make predictions\n",
                "y_pred_neg = ebm.predict(X_test_neg)\n",
                "print(\"Accuracy:\", accuracy_score(y_test_neg, y_pred_neg))\n",
                "# F1 score\n",
                "from sklearn.metrics import f1_score\n",
                "print(\"F1 Score:\", f1_score(y_test_neg, y_pred_neg))\n",
                "\n",
                "# Show feature importance\n",
                "show(ebm.explain_global())"
            ]
        },
        {
            "cell_type": "code",
            "execution_count": 25,
            "metadata": {},
            "outputs": [
                {
                    "name": "stderr",
                    "output_type": "stream",
                    "text": [
                        "[I 2025-04-11 22:56:34,354] A new study created in memory with name: no-name-ddad4d32-38a2-42f6-bfd8-e2701f523df0\n",
                        "[I 2025-04-11 22:56:49,919] Trial 0 finished with value: 0.36632747456059206 and parameters: {'learning_rate': 0.16705867126133353, 'max_bins': 371, 'interactions': 0, 'min_samples_leaf': 13, 'max_leaves': 21}. Best is trial 0 with value: 0.36632747456059206.\n",
                        "[I 2025-04-11 22:57:35,299] Trial 1 finished with value: 0.32122370936902483 and parameters: {'learning_rate': 0.03889023241511361, 'max_bins': 449, 'interactions': 1, 'min_samples_leaf': 41, 'max_leaves': 39}. Best is trial 0 with value: 0.36632747456059206.\n",
                        "[I 2025-04-11 22:58:21,284] Trial 2 finished with value: 0.35940409683426444 and parameters: {'learning_rate': 0.040165378975088185, 'max_bins': 469, 'interactions': 5, 'min_samples_leaf': 65, 'max_leaves': 22}. Best is trial 0 with value: 0.36632747456059206.\n",
                        "[I 2025-04-11 22:59:06,076] Trial 3 finished with value: 0.39749328558639213 and parameters: {'learning_rate': 0.03456577103222178, 'max_bins': 397, 'interactions': 1, 'min_samples_leaf': 73, 'max_leaves': 8}. Best is trial 3 with value: 0.39749328558639213.\n",
                        "[I 2025-04-11 22:59:48,044] Trial 4 finished with value: 0.37374658158614404 and parameters: {'learning_rate': 0.010201953178798668, 'max_bins': 122, 'interactions': 3, 'min_samples_leaf': 51, 'max_leaves': 15}. Best is trial 3 with value: 0.39749328558639213.\n",
                        "[I 2025-04-11 23:00:31,262] Trial 5 finished with value: 0.32668566001899335 and parameters: {'learning_rate': 0.08116424627188804, 'max_bins': 310, 'interactions': 2, 'min_samples_leaf': 90, 'max_leaves': 30}. Best is trial 3 with value: 0.39749328558639213.\n",
                        "[I 2025-04-11 23:01:14,958] Trial 6 finished with value: 0.4092116917626218 and parameters: {'learning_rate': 0.2075258108613591, 'max_bins': 127, 'interactions': 2, 'min_samples_leaf': 50, 'max_leaves': 5}. Best is trial 6 with value: 0.4092116917626218.\n",
                        "[I 2025-04-11 23:01:59,541] Trial 7 finished with value: 0.3691460055096419 and parameters: {'learning_rate': 0.058492641873978665, 'max_bins': 435, 'interactions': 5, 'min_samples_leaf': 88, 'max_leaves': 16}. Best is trial 6 with value: 0.4092116917626218.\n",
                        "[I 2025-04-11 23:02:44,781] Trial 8 finished with value: 0.3154875717017208 and parameters: {'learning_rate': 0.07822503366533018, 'max_bins': 102, 'interactions': 4, 'min_samples_leaf': 32, 'max_leaves': 36}. Best is trial 6 with value: 0.4092116917626218.\n",
                        "[I 2025-04-11 23:03:30,562] Trial 9 finished with value: 0.2935960591133005 and parameters: {'learning_rate': 0.014296757162875031, 'max_bins': 273, 'interactions': 2, 'min_samples_leaf': 28, 'max_leaves': 57}. Best is trial 6 with value: 0.4092116917626218.\n",
                        "[I 2025-04-11 23:04:14,462] Trial 10 finished with value: 0.415127528583993 and parameters: {'learning_rate': 0.2928554424774972, 'max_bins': 191, 'interactions': 3, 'min_samples_leaf': 9, 'max_leaves': 3}. Best is trial 10 with value: 0.415127528583993.\n",
                        "[I 2025-04-11 23:04:56,605] Trial 11 finished with value: 0.41798941798941797 and parameters: {'learning_rate': 0.269251909897006, 'max_bins': 199, 'interactions': 3, 'min_samples_leaf': 7, 'max_leaves': 2}. Best is trial 11 with value: 0.41798941798941797.\n",
                        "[I 2025-04-11 23:05:38,736] Trial 12 finished with value: 0.42280701754385963 and parameters: {'learning_rate': 0.29260542484807484, 'max_bins': 214, 'interactions': 3, 'min_samples_leaf': 4, 'max_leaves': 2}. Best is trial 12 with value: 0.42280701754385963.\n",
                        "[I 2025-04-11 23:06:20,864] Trial 13 finished with value: 0.2924901185770751 and parameters: {'learning_rate': 0.13886136163530924, 'max_bins': 232, 'interactions': 4, 'min_samples_leaf': 6, 'max_leaves': 64}. Best is trial 12 with value: 0.42280701754385963.\n",
                        "[I 2025-04-11 23:06:56,899] Trial 14 finished with value: 0.31297709923664124 and parameters: {'learning_rate': 0.2977245589329334, 'max_bins': 186, 'interactions': 4, 'min_samples_leaf': 21, 'max_leaves': 47}. Best is trial 12 with value: 0.42280701754385963.\n",
                        "[I 2025-04-11 23:07:41,286] Trial 15 finished with value: 0.3909502262443439 and parameters: {'learning_rate': 0.1205077793915284, 'max_bins': 291, 'interactions': 3, 'min_samples_leaf': 2, 'max_leaves': 10}. Best is trial 12 with value: 0.42280701754385963.\n",
                        "[I 2025-04-11 23:08:23,869] Trial 16 finished with value: 0.3342830009496676 and parameters: {'learning_rate': 0.20170721216338425, 'max_bins': 69, 'interactions': 3, 'min_samples_leaf': 18, 'max_leaves': 27}. Best is trial 12 with value: 0.42280701754385963.\n",
                        "[I 2025-04-11 23:09:06,715] Trial 17 finished with value: 0.415929203539823 and parameters: {'learning_rate': 0.1106349473400002, 'max_bins': 192, 'interactions': 1, 'min_samples_leaf': 34, 'max_leaves': 3}. Best is trial 12 with value: 0.42280701754385963.\n",
                        "[I 2025-04-11 23:09:50,965] Trial 18 finished with value: 0.38580527752502275 and parameters: {'learning_rate': 0.02270802302926076, 'max_bins': 232, 'interactions': 4, 'min_samples_leaf': 22, 'max_leaves': 15}. Best is trial 12 with value: 0.42280701754385963.\n",
                        "[I 2025-04-11 23:10:27,798] Trial 19 finished with value: 0.29521016617790813 and parameters: {'learning_rate': 0.22145961276514564, 'max_bins': 352, 'interactions': 2, 'min_samples_leaf': 2, 'max_leaves': 48}. Best is trial 12 with value: 0.42280701754385963.\n",
                        "[I 2025-04-11 23:10:45,801] Trial 20 finished with value: 0.38190045248868776 and parameters: {'learning_rate': 0.09425246915298298, 'max_bins': 159, 'interactions': 0, 'min_samples_leaf': 42, 'max_leaves': 11}. Best is trial 12 with value: 0.42280701754385963.\n",
                        "[I 2025-04-11 23:11:29,603] Trial 21 finished with value: 0.4088495575221239 and parameters: {'learning_rate': 0.12411427248882224, 'max_bins': 248, 'interactions': 1, 'min_samples_leaf': 32, 'max_leaves': 4}. Best is trial 12 with value: 0.42280701754385963.\n",
                        "[I 2025-04-11 23:12:13,114] Trial 22 finished with value: 0.41819772528433946 and parameters: {'learning_rate': 0.299664429496194, 'max_bins': 188, 'interactions': 1, 'min_samples_leaf': 13, 'max_leaves': 3}. Best is trial 12 with value: 0.42280701754385963.\n",
                        "[I 2025-04-11 23:12:56,934] Trial 23 finished with value: 0.39964317573595004 and parameters: {'learning_rate': 0.25793132571527266, 'max_bins': 164, 'interactions': 3, 'min_samples_leaf': 15, 'max_leaves': 10}. Best is trial 12 with value: 0.42280701754385963.\n",
                        "[I 2025-04-11 23:13:37,922] Trial 24 finished with value: 0.35687732342007433 and parameters: {'learning_rate': 0.17337628007809744, 'max_bins': 215, 'interactions': 2, 'min_samples_leaf': 13, 'max_leaves': 21}. Best is trial 12 with value: 0.42280701754385963.\n",
                        "[I 2025-04-11 23:13:56,304] Trial 25 finished with value: 0.3895870736086176 and parameters: {'learning_rate': 0.165885010633097, 'max_bins': 320, 'interactions': 0, 'min_samples_leaf': 25, 'max_leaves': 8}. Best is trial 12 with value: 0.42280701754385963.\n",
                        "[I 2025-04-11 23:14:38,279] Trial 26 finished with value: 0.40602836879432624 and parameters: {'learning_rate': 0.23816034247286613, 'max_bins': 257, 'interactions': 4, 'min_samples_leaf': 65, 'max_leaves': 2}. Best is trial 12 with value: 0.42280701754385963.\n",
                        "[I 2025-04-11 23:15:21,990] Trial 27 finished with value: 0.3638042474607572 and parameters: {'learning_rate': 0.156186043600743, 'max_bins': 140, 'interactions': 3, 'min_samples_leaf': 10, 'max_leaves': 18}. Best is trial 12 with value: 0.42280701754385963.\n",
                        "[I 2025-04-11 23:16:05,525] Trial 28 finished with value: 0.38294010889292196 and parameters: {'learning_rate': 0.2969164580151544, 'max_bins': 95, 'interactions': 1, 'min_samples_leaf': 2, 'max_leaves': 12}. Best is trial 12 with value: 0.42280701754385963.\n",
                        "[I 2025-04-11 23:16:20,858] Trial 29 finished with value: 0.34766355140186916 and parameters: {'learning_rate': 0.18883639274050618, 'max_bins': 210, 'interactions': 0, 'min_samples_leaf': 15, 'max_leaves': 25}. Best is trial 12 with value: 0.42280701754385963.\n",
                        "[I 2025-04-11 23:17:05,001] Trial 30 finished with value: 0.39820627802690584 and parameters: {'learning_rate': 0.06215375885218203, 'max_bins': 161, 'interactions': 2, 'min_samples_leaf': 9, 'max_leaves': 7}. Best is trial 12 with value: 0.42280701754385963.\n",
                        "[I 2025-04-11 23:17:46,442] Trial 31 finished with value: 0.4165202108963093 and parameters: {'learning_rate': 0.10310264472227854, 'max_bins': 201, 'interactions': 1, 'min_samples_leaf': 39, 'max_leaves': 2}. Best is trial 12 with value: 0.42280701754385963.\n",
                        "[I 2025-04-11 23:18:28,269] Trial 32 finished with value: 0.41171251109139306 and parameters: {'learning_rate': 0.21620017179780146, 'max_bins': 221, 'interactions': 1, 'min_samples_leaf': 39, 'max_leaves': 2}. Best is trial 12 with value: 0.42280701754385963.\n",
                        "[I 2025-04-11 23:18:44,685] Trial 33 finished with value: 0.3836363636363636 and parameters: {'learning_rate': 0.24778281355306417, 'max_bins': 262, 'interactions': 0, 'min_samples_leaf': 59, 'max_leaves': 13}. Best is trial 12 with value: 0.42280701754385963.\n",
                        "[I 2025-04-11 23:19:28,056] Trial 34 finished with value: 0.402493321460374 and parameters: {'learning_rate': 0.03373527847771417, 'max_bins': 187, 'interactions': 1, 'min_samples_leaf': 19, 'max_leaves': 7}. Best is trial 12 with value: 0.42280701754385963.\n",
                        "[I 2025-04-11 23:20:11,860] Trial 35 finished with value: 0.398576512455516 and parameters: {'learning_rate': 0.04497812137778386, 'max_bins': 152, 'interactions': 2, 'min_samples_leaf': 78, 'max_leaves': 7}. Best is trial 12 with value: 0.42280701754385963.\n",
                        "[I 2025-04-11 23:20:53,985] Trial 36 finished with value: 0.3664825046040516 and parameters: {'learning_rate': 0.14837888083201148, 'max_bins': 298, 'interactions': 3, 'min_samples_leaf': 98, 'max_leaves': 20}. Best is trial 12 with value: 0.42280701754385963.\n",
                        "[I 2025-04-11 23:21:38,218] Trial 37 finished with value: 0.4049955396966994 and parameters: {'learning_rate': 0.10257937173301537, 'max_bins': 331, 'interactions': 5, 'min_samples_leaf': 42, 'max_leaves': 6}. Best is trial 12 with value: 0.42280701754385963.\n",
                        "[I 2025-04-11 23:22:19,331] Trial 38 finished with value: 0.3813868613138686 and parameters: {'learning_rate': 0.24826676250538696, 'max_bins': 407, 'interactions': 1, 'min_samples_leaf': 47, 'max_leaves': 14}. Best is trial 12 with value: 0.42280701754385963.\n",
                        "[I 2025-04-11 23:23:02,862] Trial 39 finished with value: 0.3206831119544592 and parameters: {'learning_rate': 0.0862043945421277, 'max_bins': 116, 'interactions': 2, 'min_samples_leaf': 27, 'max_leaves': 42}. Best is trial 12 with value: 0.42280701754385963.\n",
                        "[I 2025-04-11 23:23:47,659] Trial 40 finished with value: 0.375 and parameters: {'learning_rate': 0.028220227545461787, 'max_bins': 278, 'interactions': 3, 'min_samples_leaf': 57, 'max_leaves': 18}. Best is trial 12 with value: 0.42280701754385963.\n",
                        "[I 2025-04-11 23:24:29,104] Trial 41 finished with value: 0.4231782265144864 and parameters: {'learning_rate': 0.11500090571608249, 'max_bins': 195, 'interactions': 1, 'min_samples_leaf': 34, 'max_leaves': 2}. Best is trial 41 with value: 0.4231782265144864.\n",
                        "[I 2025-04-11 23:24:44,897] Trial 42 finished with value: 0.4084507042253521 and parameters: {'learning_rate': 0.06663827012963149, 'max_bins': 174, 'interactions': 0, 'min_samples_leaf': 37, 'max_leaves': 2}. Best is trial 41 with value: 0.4231782265144864.\n",
                        "[I 2025-04-11 23:25:29,026] Trial 43 finished with value: 0.41238938053097346 and parameters: {'learning_rate': 0.18743324400550934, 'max_bins': 204, 'interactions': 1, 'min_samples_leaf': 7, 'max_leaves': 5}. Best is trial 41 with value: 0.4231782265144864.\n",
                        "[I 2025-04-11 23:26:12,893] Trial 44 finished with value: 0.39495040577096485 and parameters: {'learning_rate': 0.04838818111820739, 'max_bins': 239, 'interactions': 1, 'min_samples_leaf': 46, 'max_leaves': 9}. Best is trial 41 with value: 0.4231782265144864.\n",
                        "[I 2025-04-11 23:26:56,180] Trial 45 finished with value: 0.41025641025641024 and parameters: {'learning_rate': 0.07438578967589504, 'max_bins': 142, 'interactions': 2, 'min_samples_leaf': 29, 'max_leaves': 6}. Best is trial 41 with value: 0.4231782265144864.\n",
                        "[I 2025-04-11 23:27:38,042] Trial 46 finished with value: 0.42280701754385963 and parameters: {'learning_rate': 0.13214675746130242, 'max_bins': 177, 'interactions': 2, 'min_samples_leaf': 15, 'max_leaves': 2}. Best is trial 41 with value: 0.4231782265144864.\n",
                        "[I 2025-04-11 23:28:22,359] Trial 47 finished with value: 0.3898916967509025 and parameters: {'learning_rate': 0.12983717261002561, 'max_bins': 127, 'interactions': 2, 'min_samples_leaf': 13, 'max_leaves': 10}. Best is trial 41 with value: 0.4231782265144864.\n",
                        "[I 2025-04-11 23:29:06,292] Trial 48 finished with value: 0.411297440423654 and parameters: {'learning_rate': 0.25105331360300565, 'max_bins': 175, 'interactions': 3, 'min_samples_leaf': 18, 'max_leaves': 4}. Best is trial 41 with value: 0.4231782265144864.\n",
                        "[I 2025-04-11 23:29:42,981] Trial 49 finished with value: 0.33744075829383885 and parameters: {'learning_rate': 0.2988130442259179, 'max_bins': 498, 'interactions': 4, 'min_samples_leaf': 23, 'max_leaves': 30}. Best is trial 41 with value: 0.4231782265144864.\n",
                        "[I 2025-04-11 23:30:26,297] Trial 50 finished with value: 0.3703024747937672 and parameters: {'learning_rate': 0.2024469699526421, 'max_bins': 91, 'interactions': 3, 'min_samples_leaf': 6, 'max_leaves': 17}. Best is trial 41 with value: 0.4231782265144864.\n",
                        "[I 2025-04-11 23:31:08,231] Trial 51 finished with value: 0.41872791519434627 and parameters: {'learning_rate': 0.10477592806653441, 'max_bins': 197, 'interactions': 1, 'min_samples_leaf': 11, 'max_leaves': 2}. Best is trial 41 with value: 0.4231782265144864.\n",
                        "[I 2025-04-11 23:31:52,297] Trial 52 finished with value: 0.40530973451327434 and parameters: {'learning_rate': 0.14110640477616698, 'max_bins': 222, 'interactions': 2, 'min_samples_leaf': 10, 'max_leaves': 5}. Best is trial 41 with value: 0.4231782265144864.\n",
                        "[I 2025-04-11 23:32:36,472] Trial 53 finished with value: 0.3913435527502254 and parameters: {'learning_rate': 0.11538124639539941, 'max_bins': 180, 'interactions': 1, 'min_samples_leaf': 15, 'max_leaves': 9}. Best is trial 41 with value: 0.4231782265144864.\n",
                        "[I 2025-04-11 23:33:20,311] Trial 54 finished with value: 0.38545454545454544 and parameters: {'learning_rate': 0.16082019280359033, 'max_bins': 235, 'interactions': 2, 'min_samples_leaf': 5, 'max_leaves': 12}. Best is trial 41 with value: 0.4231782265144864.\n",
                        "[I 2025-04-11 23:33:38,153] Trial 55 finished with value: 0.40816326530612246 and parameters: {'learning_rate': 0.18047990318408588, 'max_bins': 196, 'interactions': 0, 'min_samples_leaf': 19, 'max_leaves': 5}. Best is trial 41 with value: 0.4231782265144864.\n",
                        "[I 2025-04-11 23:34:19,844] Trial 56 finished with value: 0.4231782265144864 and parameters: {'learning_rate': 0.09333690006626671, 'max_bins': 142, 'interactions': 3, 'min_samples_leaf': 11, 'max_leaves': 2}. Best is trial 41 with value: 0.4231782265144864.\n",
                        "[I 2025-04-11 23:35:05,154] Trial 57 finished with value: 0.31721470019342357 and parameters: {'learning_rate': 0.08131657316268609, 'max_bins': 71, 'interactions': 4, 'min_samples_leaf': 24, 'max_leaves': 35}. Best is trial 41 with value: 0.4231782265144864.\n",
                        "[I 2025-04-11 23:35:48,582] Trial 58 finished with value: 0.416 and parameters: {'learning_rate': 0.09614553483997726, 'max_bins': 135, 'interactions': 1, 'min_samples_leaf': 29, 'max_leaves': 4}. Best is trial 41 with value: 0.4231782265144864.\n",
                        "[I 2025-04-11 23:36:33,802] Trial 59 finished with value: 0.298828125 and parameters: {'learning_rate': 0.05410858877887965, 'max_bins': 154, 'interactions': 3, 'min_samples_leaf': 10, 'max_leaves': 53}. Best is trial 41 with value: 0.4231782265144864.\n",
                        "[I 2025-04-11 23:37:17,534] Trial 60 finished with value: 0.39783978397839787 and parameters: {'learning_rate': 0.07144080241669531, 'max_bins': 115, 'interactions': 2, 'min_samples_leaf': 3, 'max_leaves': 8}. Best is trial 41 with value: 0.4231782265144864.\n",
                        "[I 2025-04-11 23:37:59,924] Trial 61 finished with value: 0.41622574955908287 and parameters: {'learning_rate': 0.2723688874375214, 'max_bins': 169, 'interactions': 3, 'min_samples_leaf': 11, 'max_leaves': 2}. Best is trial 41 with value: 0.4231782265144864.\n",
                        "[I 2025-04-11 23:38:43,826] Trial 62 finished with value: 0.4088495575221239 and parameters: {'learning_rate': 0.22272422825168747, 'max_bins': 216, 'interactions': 3, 'min_samples_leaf': 14, 'max_leaves': 4}. Best is trial 41 with value: 0.4231782265144864.\n",
                        "[I 2025-04-11 23:39:25,853] Trial 63 finished with value: 0.41439859525899914 and parameters: {'learning_rate': 0.1312264979074546, 'max_bins': 193, 'interactions': 3, 'min_samples_leaf': 5, 'max_leaves': 2}. Best is trial 41 with value: 0.4231782265144864.\n",
                        "[I 2025-04-11 23:40:10,228] Trial 64 finished with value: 0.39783978397839787 and parameters: {'learning_rate': 0.08955089373337893, 'max_bins': 146, 'interactions': 4, 'min_samples_leaf': 17, 'max_leaves': 11}. Best is trial 41 with value: 0.4231782265144864.\n",
                        "[I 2025-04-11 23:40:54,104] Trial 65 finished with value: 0.3971248876909254 and parameters: {'learning_rate': 0.014344830551056316, 'max_bins': 259, 'interactions': 3, 'min_samples_leaf': 21, 'max_leaves': 7}. Best is trial 41 with value: 0.4231782265144864.\n",
                        "[I 2025-04-11 23:41:37,947] Trial 66 finished with value: 0.41379310344827586 and parameters: {'learning_rate': 0.10778459637820391, 'max_bins': 183, 'interactions': 1, 'min_samples_leaf': 7, 'max_leaves': 4}. Best is trial 41 with value: 0.4231782265144864.\n",
                        "[I 2025-04-11 23:42:21,566] Trial 67 finished with value: 0.4 and parameters: {'learning_rate': 0.2741657538817935, 'max_bins': 205, 'interactions': 2, 'min_samples_leaf': 8, 'max_leaves': 8}. Best is trial 41 with value: 0.4231782265144864.\n",
                        "[I 2025-04-11 23:42:39,381] Trial 68 finished with value: 0.40744021257750224 and parameters: {'learning_rate': 0.22868453758552404, 'max_bins': 241, 'interactions': 0, 'min_samples_leaf': 12, 'max_leaves': 6}. Best is trial 41 with value: 0.4231782265144864.\n",
                        "[I 2025-04-11 23:43:22,811] Trial 69 finished with value: 0.37453874538745385 and parameters: {'learning_rate': 0.16499762819338532, 'max_bins': 225, 'interactions': 1, 'min_samples_leaf': 3, 'max_leaves': 15}. Best is trial 41 with value: 0.4231782265144864.\n",
                        "[I 2025-04-11 23:44:06,380] Trial 70 finished with value: 0.4120247568523431 and parameters: {'learning_rate': 0.11988720716286895, 'max_bins': 170, 'interactions': 3, 'min_samples_leaf': 15, 'max_leaves': 3}. Best is trial 41 with value: 0.4231782265144864.\n",
                        "[I 2025-04-11 23:44:48,053] Trial 71 finished with value: 0.4203152364273205 and parameters: {'learning_rate': 0.10510276470365487, 'max_bins': 199, 'interactions': 1, 'min_samples_leaf': 35, 'max_leaves': 2}. Best is trial 41 with value: 0.4231782265144864.\n",
                        "[I 2025-04-11 23:45:29,551] Trial 72 finished with value: 0.41098317094774134 and parameters: {'learning_rate': 0.14918008678555397, 'max_bins': 210, 'interactions': 1, 'min_samples_leaf': 33, 'max_leaves': 2}. Best is trial 41 with value: 0.4231782265144864.\n",
                        "[I 2025-04-11 23:46:11,110] Trial 73 finished with value: 0.2882527147087858 and parameters: {'learning_rate': 0.08495360493441524, 'max_bins': 163, 'interactions': 1, 'min_samples_leaf': 26, 'max_leaves': 62}. Best is trial 41 with value: 0.4231782265144864.\n",
                        "[I 2025-04-11 23:46:55,286] Trial 74 finished with value: 0.4088888888888889 and parameters: {'learning_rate': 0.09793633762526764, 'max_bins': 251, 'interactions': 1, 'min_samples_leaf': 21, 'max_leaves': 6}. Best is trial 41 with value: 0.4231782265144864.\n",
                        "[I 2025-04-11 23:47:39,466] Trial 75 finished with value: 0.4105726872246696 and parameters: {'learning_rate': 0.1981186588047482, 'max_bins': 270, 'interactions': 1, 'min_samples_leaf': 17, 'max_leaves': 4}. Best is trial 41 with value: 0.4231782265144864.\n",
                        "[I 2025-04-11 23:48:23,226] Trial 76 finished with value: 0.39282511210762333 and parameters: {'learning_rate': 0.11475721177614308, 'max_bins': 189, 'interactions': 2, 'min_samples_leaf': 56, 'max_leaves': 9}. Best is trial 41 with value: 0.4231782265144864.\n",
                        "[I 2025-04-11 23:49:06,834] Trial 77 finished with value: 0.376599634369287 and parameters: {'learning_rate': 0.1362294520203616, 'max_bins': 153, 'interactions': 4, 'min_samples_leaf': 70, 'max_leaves': 12}. Best is trial 41 with value: 0.4231782265144864.\n",
                        "[I 2025-04-11 23:49:22,328] Trial 78 finished with value: 0.42328042328042326 and parameters: {'learning_rate': 0.27188827467346816, 'max_bins': 129, 'interactions': 0, 'min_samples_leaf': 12, 'max_leaves': 2}. Best is trial 78 with value: 0.42328042328042326.\n",
                        "[I 2025-04-11 23:49:40,533] Trial 79 finished with value: 0.3103448275862069 and parameters: {'learning_rate': 0.06227571523618146, 'max_bins': 108, 'interactions': 0, 'min_samples_leaf': 37, 'max_leaves': 40}. Best is trial 78 with value: 0.42328042328042326.\n",
                        "[I 2025-04-11 23:49:57,590] Trial 80 finished with value: 0.3981981981981982 and parameters: {'learning_rate': 0.10507018631859671, 'max_bins': 81, 'interactions': 0, 'min_samples_leaf': 30, 'max_leaves': 5}. Best is trial 78 with value: 0.42328042328042326.\n",
                        "[I 2025-04-11 23:50:13,124] Trial 81 finished with value: 0.421792618629174 and parameters: {'learning_rate': 0.2791625552535783, 'max_bins': 123, 'interactions': 0, 'min_samples_leaf': 8, 'max_leaves': 2}. Best is trial 78 with value: 0.42328042328042326.\n",
                        "[I 2025-04-11 23:50:30,728] Trial 82 finished with value: 0.41901408450704225 and parameters: {'learning_rate': 0.2689448416553434, 'max_bins': 132, 'interactions': 0, 'min_samples_leaf': 11, 'max_leaves': 3}. Best is trial 78 with value: 0.42328042328042326.\n",
                        "[I 2025-04-11 23:50:46,477] Trial 83 finished with value: 0.41519434628975266 and parameters: {'learning_rate': 0.26170728235229745, 'max_bins': 134, 'interactions': 0, 'min_samples_leaf': 9, 'max_leaves': 2}. Best is trial 78 with value: 0.42328042328042326.\n",
                        "[I 2025-04-11 23:51:03,676] Trial 84 finished with value: 0.4028393966282165 and parameters: {'learning_rate': 0.23337504942844717, 'max_bins': 126, 'interactions': 0, 'min_samples_leaf': 12, 'max_leaves': 6}. Best is trial 78 with value: 0.42328042328042326.\n",
                        "[I 2025-04-11 23:51:20,941] Trial 85 finished with value: 0.38405797101449274 and parameters: {'learning_rate': 0.20893906874362583, 'max_bins': 96, 'interactions': 0, 'min_samples_leaf': 2, 'max_leaves': 8}. Best is trial 78 with value: 0.42328042328042326.\n",
                        "[I 2025-04-11 23:51:38,290] Trial 86 finished with value: 0.41762114537444933 and parameters: {'learning_rate': 0.2843211399631077, 'max_bins': 109, 'interactions': 0, 'min_samples_leaf': 4, 'max_leaves': 3}. Best is trial 78 with value: 0.42328042328042326.\n",
                        "[I 2025-04-11 23:51:56,268] Trial 87 finished with value: 0.3780821917808219 and parameters: {'learning_rate': 0.07586928309332143, 'max_bins': 121, 'interactions': 0, 'min_samples_leaf': 46, 'max_leaves': 10}. Best is trial 78 with value: 0.42328042328042326.\n",
                        "[I 2025-04-11 23:52:13,794] Trial 88 finished with value: 0.4017857142857143 and parameters: {'learning_rate': 0.1776379964956169, 'max_bins': 145, 'interactions': 0, 'min_samples_leaf': 7, 'max_leaves': 4}. Best is trial 78 with value: 0.42328042328042326.\n",
                        "[I 2025-04-11 23:52:32,060] Trial 89 finished with value: 0.39820627802690584 and parameters: {'learning_rate': 0.1239763437052091, 'max_bins': 134, 'interactions': 0, 'min_samples_leaf': 51, 'max_leaves': 6}. Best is trial 78 with value: 0.42328042328042326.\n",
                        "[I 2025-04-11 23:52:47,061] Trial 90 finished with value: 0.35992578849721707 and parameters: {'learning_rate': 0.2404301542000492, 'max_bins': 161, 'interactions': 0, 'min_samples_leaf': 16, 'max_leaves': 25}. Best is trial 78 with value: 0.42328042328042326.\n",
                        "[I 2025-04-11 23:53:30,454] Trial 91 finished with value: 0.4263157894736842 and parameters: {'learning_rate': 0.2955572090603533, 'max_bins': 85, 'interactions': 1, 'min_samples_leaf': 19, 'max_leaves': 3}. Best is trial 91 with value: 0.4263157894736842.\n",
                        "[I 2025-04-11 23:54:13,226] Trial 92 finished with value: 0.4201235657546337 and parameters: {'learning_rate': 0.27528387617113514, 'max_bins': 67, 'interactions': 1, 'min_samples_leaf': 21, 'max_leaves': 3}. Best is trial 91 with value: 0.4263157894736842.\n",
                        "[I 2025-04-11 23:54:58,468] Trial 93 finished with value: 0.41762114537444933 and parameters: {'learning_rate': 0.26509253939417243, 'max_bins': 76, 'interactions': 1, 'min_samples_leaf': 20, 'max_leaves': 4}. Best is trial 91 with value: 0.4263157894736842.\n",
                        "[I 2025-04-11 23:55:47,544] Trial 94 finished with value: 0.40636042402826855 and parameters: {'learning_rate': 0.2840810676976691, 'max_bins': 99, 'interactions': 1, 'min_samples_leaf': 22, 'max_leaves': 7}. Best is trial 91 with value: 0.4263157894736842.\n",
                        "[I 2025-04-11 23:56:06,053] Trial 95 finished with value: 0.41317898486197685 and parameters: {'learning_rate': 0.25408877241486244, 'max_bins': 84, 'interactions': 0, 'min_samples_leaf': 25, 'max_leaves': 3}. Best is trial 91 with value: 0.4263157894736842.\n",
                        "[I 2025-04-11 23:56:54,464] Trial 96 finished with value: 0.4204045734388742 and parameters: {'learning_rate': 0.19805962452016634, 'max_bins': 108, 'interactions': 1, 'min_samples_leaf': 13, 'max_leaves': 5}. Best is trial 91 with value: 0.4263157894736842.\n",
                        "[I 2025-04-11 23:57:42,500] Trial 97 finished with value: 0.41415929203539825 and parameters: {'learning_rate': 0.21659359043073814, 'max_bins': 84, 'interactions': 1, 'min_samples_leaf': 18, 'max_leaves': 5}. Best is trial 91 with value: 0.4263157894736842.\n",
                        "[I 2025-04-11 23:58:26,652] Trial 98 finished with value: 0.39423942394239425 and parameters: {'learning_rate': 0.19304766557569022, 'max_bins': 64, 'interactions': 1, 'min_samples_leaf': 14, 'max_leaves': 9}. Best is trial 91 with value: 0.4263157894736842.\n",
                        "[I 2025-04-11 23:59:07,969] Trial 99 finished with value: 0.42068361086765993 and parameters: {'learning_rate': 0.2408013675754906, 'max_bins': 106, 'interactions': 2, 'min_samples_leaf': 23, 'max_leaves': 2}. Best is trial 91 with value: 0.4263157894736842.\n"
                    ]
                },
                {
                    "name": "stdout",
                    "output_type": "stream",
                    "text": [
                        "Best parameters: {'learning_rate': 0.2955572090603533, 'max_bins': 85, 'interactions': 1, 'min_samples_leaf': 19, 'max_leaves': 3}\n",
                        "Best F1 score: 0.4263157894736842\n"
                    ]
                }
            ],
            "source": [
                "import optuna\n",
                "from interpret.glassbox import ExplainableBoostingClassifier\n",
                "from sklearn.metrics import f1_score\n",
                "from sklearn.model_selection import train_test_split\n",
                "import numpy as np\n",
                "\n",
                "def objective(trial):\n",
                "    # Define the search space\n",
                "    learning_rate = trial.suggest_float(\"learning_rate\", 0.01, 0.3, log=True)\n",
                "    max_bins = trial.suggest_int(\"max_bins\", 64, 512)\n",
                "    interactions = trial.suggest_int(\"interactions\", 0, 5)\n",
                "    min_samples_leaf = trial.suggest_int(\"min_samples_leaf\", 2, 100)\n",
                "    max_leaves = trial.suggest_int(\"max_leaves\", 2, 64)\n",
                "    \n",
                "    ebm = ExplainableBoostingClassifier(\n",
                "        learning_rate=learning_rate,\n",
                "        max_bins=max_bins,\n",
                "        interactions=interactions,\n",
                "        min_samples_leaf=min_samples_leaf,\n",
                "        max_leaves=max_leaves,\n",
                "        n_jobs=-2\n",
                "    )\n",
                "    \n",
                "    ebm.fit(X_train_neg, y_train_neg)\n",
                "    y_pred = ebm.predict(X_test_neg)\n",
                "\n",
                "    return f1_score(y_test_neg, y_pred)\n",
                "\n",
                "# Run the study\n",
                "study = optuna.create_study(direction=\"maximize\")\n",
                "study.optimize(objective, n_trials=100)\n",
                "\n",
                "print(\"Best parameters:\", study.best_params)\n",
                "print(\"Best F1 score:\", study.best_value)\n"
            ]
        },
        {
            "cell_type": "code",
            "execution_count": 26,
            "metadata": {},
            "outputs": [
                {
                    "name": "stdout",
                    "output_type": "stream",
                    "text": [
                        "              precision    recall  f1-score   support\n",
                        "\n",
                        "           0       0.96      0.99      0.97     12762\n",
                        "           1       0.72      0.29      0.41       801\n",
                        "\n",
                        "    accuracy                           0.95     13563\n",
                        "   macro avg       0.84      0.64      0.69     13563\n",
                        "weighted avg       0.94      0.95      0.94     13563\n",
                        "\n"
                    ]
                }
            ],
            "source": [
                "best_ebm = ExplainableBoostingClassifier(\n",
                "    **study.best_params,\n",
                "    inner_bags=20,\n",
                "    n_jobs=-2\n",
                ")\n",
                "best_ebm.fit(X_train_neg, y_train_neg)\n",
                "\n",
                "from sklearn.metrics import classification_report\n",
                "print(classification_report(y_test_neg, best_ebm.predict(X_test_neg)))\n"
            ]
        },
        {
            "cell_type": "code",
            "execution_count": 27,
            "metadata": {},
            "outputs": [
                {
                    "name": "stdout",
                    "output_type": "stream",
                    "text": [
                        "Test Accuracy: 0.8557103885571039\n",
                        "              precision    recall  f1-score   support\n",
                        "\n",
                        "           0       0.99      0.86      0.92     12762\n",
                        "           1       0.27      0.84      0.41       801\n",
                        "\n",
                        "    accuracy                           0.86     13563\n",
                        "   macro avg       0.63      0.85      0.66     13563\n",
                        "weighted avg       0.95      0.86      0.89     13563\n",
                        "\n"
                    ]
                },
                {
                    "data": {
                        "image/png": "[encoded data removed]",
                        "text/plain": [
                            "<Figure size 640x480 with 2 Axes>"
                        ]
                    },
                    "metadata": {},
                    "output_type": "display_data"
                }
            ],
            "source": [
                "y_pred = ebm.predict(X_test_neg)\n",
                "\n",
                "accuracy = accuracy_score(y_test_neg, y_pred)\n",
                "print('Test Accuracy:', accuracy)\n",
                "\n",
                "print(classification_report(y_test_neg, y_pred))\n",
                "\n",
                "cm = confusion_matrix(y_test_neg, y_pred)\n",
                "sns.heatmap(cm, annot=True, fmt='d', cmap='Blues')\n",
                "plt.xlabel('Predicted')\n",
                "plt.ylabel('True')\n",
                "plt.show()"
            ]
        },
        {
            "cell_type": "code",
            "execution_count": 28,
            "metadata": {},
            "outputs": [
                {
                    "data": {
                        "text/html": [
                            "<!-- http://127.0.0.1:7001/2279969871904/ -->\n",
                            "<iframe src=\"http://127.0.0.1:7001/2279969871904/\" width=100% height=800 frameBorder=\"0\"></iframe>"
                        ]
                    },
                    "metadata": {},
                    "output_type": "display_data"
                },
                {
                    "data": {
                        "text/html": [
                            "<!-- http://127.0.0.1:7001/2280335846304/ -->\n",
                            "<iframe src=\"http://127.0.0.1:7001/2280335846304/\" width=100% height=800 frameBorder=\"0\"></iframe>"
                        ]
                    },
                    "metadata": {},
                    "output_type": "display_data"
                }
            ],
            "source": [
                "# Global explanation\n",
                "global_explanation = ebm.explain_global()\n",
                "show(global_explanation)\n",
                "\n",
                "# Local explanation for the first 5 instances\n",
                "local_explanation = ebm.explain_local(X_test_neg.iloc[:5], y_test_neg.iloc[:5])\n",
                "show(local_explanation)"
            ]
        }
    ],
    "metadata": {
        "kernelspec": {
            "display_name": "ebm_env",
            "language": "python",
            "name": "python3"
        },
        "language_info": {
            "codemirror_mode": {
                "name": "ipython",
                "version": 3
            },
            "file_extension": ".py",
            "mimetype": "text/x-python",
            "name": "python",
            "nbconvert_exporter": "python",
            "pygments_lexer": "ipython3",
            "version": "3.12.7"
        }
    },
    "nbformat": 4,
    "nbformat_minor": 2
}
