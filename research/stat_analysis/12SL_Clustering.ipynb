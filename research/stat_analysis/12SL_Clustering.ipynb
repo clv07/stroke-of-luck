{
  "nbformat": 4,
  "nbformat_minor": 0,
  "metadata": {
    "colab": {
      "provenance": [],
      "authorship_tag": "ABX9TyNNdkclqgyN2P1c3k11HCOa",
      "include_colab_link": true
    },
    "kernelspec": {
      "name": "python3",
      "display_name": "Python 3"
    },
    "language_info": {
      "name": "python"
    }
  },
  "cells": [
    {
      "cell_type": "markdown",
      "metadata": {
        "id": "view-in-github",
        "colab_type": "text"
      },
      "source": [
        "<a href=\"https://colab.research.google.com/github/clv07/stroke-of-luck/blob/Data-import/12SL_Clustering.ipynb\" target=\"_parent\"><img src=\"https://colab.research.google.com/assets/colab-badge.svg\" alt=\"Open In Colab\"/></a>"
      ]
    },
    {
      "cell_type": "code",
      "execution_count": 1,
      "metadata": {
        "id": "6ZXWRYA9VzOP"
      },
      "outputs": [],
      "source": [
        "import pandas as pd\n",
        "import numpy as np\n",
        "import matplotlib.pyplot as plt\n",
        "from sklearn.decomposition import PCA\n",
        "from sklearn.preprocessing import StandardScaler\n",
        "from sklearn.cluster import KMeans\n",
        "from sklearn.metrics import silhouette_score\n",
        "from sklearn.ensemble import RandomForestClassifier\n",
        "from sklearn.model_selection import train_test_split\n",
        "from sklearn.metrics import classification_report"
      ]
    },
    {
      "cell_type": "code",
      "source": [
        "# Load Data\n",
        "dataset = pd.read_csv(\"dataset.csv\")"
      ],
      "metadata": {
        "id": "FnMLT-n450Qd"
      },
      "execution_count": 2,
      "outputs": []
    },
    {
      "cell_type": "code",
      "source": [
        "# Data Pre-Processing\n",
        "columns_to_drop = [\"PatientID\", \"Source\",\"Phys_Codes\",\"MI_12SL\",\"MI_Phys\",\"TestID\",\"PatientAge\",\"Gender\",\"AcquisitionDateTime_DT\",\"12SL_Codes\"]\n",
        "df_cols = dataset.drop(columns=columns_to_drop)\n",
        "columns_to_drop = [\"Source\",\"Phys_Codes\",\"TestID\",\"PatientAge\",\"Gender\",\"AcquisitionDateTime_DT\",\"12SL_Codes\",'MI_12SL']\n",
        "df_patients = dataset.drop(columns=columns_to_drop)"
      ],
      "metadata": {
        "id": "aEIxqCJW591f"
      },
      "execution_count": 10,
      "outputs": []
    },
    {
      "cell_type": "code",
      "source": [
        "# PCA\n",
        "scaler = StandardScaler()\n",
        "df_cols = df_cols.dropna()  # Drop missing values if any\n",
        "X_scaled = scaler.fit_transform(df_cols)\n",
        "\n",
        "pca = PCA(n_components=0.95, random_state=42)  # Keep 95% of variance\n",
        "pca.fit(X_scaled)  # Fit PCA, but don't transform or get components data\n",
        "\n",
        "print(\"Number of components selected:\", pca.n_components_)\n",
        "print(\"Total variance explained:\", pca.explained_variance_ratio_.sum())\n",
        "\n",
        "# Get the components (feature loadings) from PCA\n",
        "components = pca.components_\n",
        "\n",
        "# Get the feature names (labels) from the original dataset\n",
        "feature_names = df_cols.columns\n",
        "\n",
        "# Find significant features (those with high loadings in the principal components)\n",
        "# We'll define \"significant\" as having an absolute loading > a certain threshold (e.g., 0.1)\n",
        "threshold = 0.1\n",
        "\n",
        "# Create a list to store the significant features\n",
        "significant_features = set()\n",
        "\n",
        "for i, component in enumerate(components):\n",
        "    # Get the absolute value of the loadings for each feature in this component\n",
        "    feature_contributions = pd.Series(component, index=feature_names)\n",
        "\n",
        "    # Add features with absolute loading greater than threshold to the set\n",
        "    significant_features.update(feature_contributions[feature_contributions.abs() > threshold].index)\n",
        "\n",
        "# Print the significant features\n",
        "print(\"Significant Features:\", significant_features)\n",
        "\n",
        "# Step 2: Filter the original dataset to keep only significant features\n",
        "df_significant_features = df_cols[list(significant_features)]"
      ],
      "metadata": {
        "colab": {
          "base_uri": "https://localhost:8080/"
        },
        "id": "coe65LpY-Td2",
        "outputId": "4dc9276a-16cc-4bf3-a71e-0864fe73bb6f"
      },
      "execution_count": 11,
      "outputs": [
        {
          "output_type": "stream",
          "name": "stdout",
          "text": [
            "Number of components selected: 277\n",
            "Total variance explained: 0.9501401527639174\n",
            "Significant Features: {'RP_Duration_V2', 'STELEV_V2', 'Q_Duration_AVL', 'Q_Area_V5', 'P_PeakTime_II', 'S_PeakAmpl_V6', 'Q_Duration_II', 'SP_Area_AVR', 'RP_PeakTime_AVL', 'P_PeakTime_V2', 'PP_Duration_V1', 'P_RInterval', 'PP_PeakTime_I', 'T_PeakAmpl_V5', 'PP_Area_V4', 'T_Area_V5', 'PP_Duration_V3', 'QRS_Balance_AVL', 'RP_Area_V3', 'P_OnsetAmpl_I', 'Q_Area_V6', 'RP_Duration_I', 'P_Duration_AVR', 'PPDEEP_V1', 'SP_Duration_V3', 'TP_Area_AVR', 'SP_Area_V2', 'Q_Area_I', 'P_Duration_I', 'SP_PeakAmpl_V1', 'JELEV_V1', 'TP_Area_aVF', 'PP_PeakTime_II', 'STINJ_V6', 'JELEV_V3', 'RP_PeakAmpl_V5', 'S_PeakAmpl_V2', 'S_PeakTime_II', 'PAxis', 'PP_Duration_II', 'SP_Area_III', 'P_Duration_II', 'Max_R_Ampl_V5', 'SP_PeakAmpl_V5', 'TP_Area_V3', 'R_Duration_V6', 'PP_Duration_V5', 'Q_PeakTime_I', 'PP_PeakAmpl_V5', 'TP_PeakTime_V6', 'Q_TInterval', 'QTc_Bazett', 'Q_PeakTime_V6', 'RP_PeakTime_V5', 'DLTWV_V1', 'PP_PeakAmpl_V4', 'QRS_T_REVERSE_V4', 'SP_PeakTime_III', 'STDOWN_III', 'PP_Duration_V6', 'R_PeakTime_V2', 'TTALL_AVF', 'RP_PeakAmpl_II', 'T_Duration_AVL', 'QRSint_III', 'DLTWV_V4', 'S_Duration_V2', 'ST_T_REVERSE_AVF', 'R_Area_V1', 'QRS_Balance_AVR', 'TP_PeakAmpl_V1', 'SP_PeakAmpl_V2', 'STDOWN_V5', 'P_OnsetAmpl_V4', 'PP_PeakTime_aVF', 'JELEV_V4', 'TP_Area_V4', 'VentricularRate', 'RP_Duration_V6', 'S_Duration_V5', 'ST_T_REVERSE_III', 'TFull_Area_II', 'Q_PeakAmpl_V2', 'S_Area_V5', 'ST_T_REVERSE_V6', 'STINJ_V2', 'RP_Area_III', 'PP_PeakAmpl_V3', 'RP_PeakTime_AVR', 'P_Duration_V2', 'T_Special_AVR', 'STE_AVL', 'S_Duration_II', 'S_Duration_V1', 'QTCCalculation', 'SP_PeakTime_AVR', 'SP_Area_AVL', 'PP_PeakTime_AVL', 'P_PeakTime_V5', 'RP_PeakTime_I', 'S_PeakTime_V2', 'STE_III', 'R_Duration_aVF', 'RP_Area_V4', 'MinST_V2', 'SP_Duration_AVL', 'RP_Area_V5', 'Q_Duration_V6', 'TP_Area_II', 'P_OnsetAmpl_AVR', 'PFull_Area_aVF', 'TP_PeakAmpl_AVR', 'ST_T_REVERSE_AVR', 'TTALL_III', 'QRS_Deflection_III', 'P_OnsetAmpl_aVF', 'P_Area_V4', 'RP_PeakTime_V6', 'SP_PeakAmpl_AVL', 'JELEV_V5', 'RP_Area_V2', 'P_OnsetAmpl_II', 'QRS_T_REVERSE_I', 'MaxST_AVL', 'TP_PeakTime_II', 'Q_PeakTime_V5', 'RP_Duration_III', 'SP_Area_II', 'SP_PeakAmpl_I', 'TP_PeakTime_V1', 'QRSint_II', 'BRUGFLG_V2', 'T_Special_III', 'PP_PeakTime_V4', 'RP_PeakAmpl_aVF', 'SP_PeakTime_V6', 'RP_Duration_aVF', 'JELEV_AVL', 'PP_Duration_I', 'Q_PeakTime_V3', 'TFull_Area_V6', 'MaxST_V1', 'TFull_Area_AVR', 'T_Duration_V6', 'Q_PeakAmpl_V3', 'RP_PeakAmpl_V2', 'Q_Area_V4', 'P_PeakTime_aVF', 'QRS_Area_II', 'SP_Duration_I', 'QRS_ST_REVERSE_V2', 'S_PeakTime_V6', 'Q_PeakAmpl_II', 'QRS_Deflection_II', 'STELEV_V4', 'QRSint_V1', 'T_PeakTime_I', 'QRS_T_REVERSE_II', 'R_PeakTime_aVF', 'SP_Area_aVF', 'P_PeakTime_V4', 'R_PeakAmpl_V5', 'S_PeakAmpl_AVR', 'PP_Area_aVF', 'T_PeakTime_V6', 'Max_S_Ampl_V6', 'PP_PeakAmpl_aVF', 'TP_Area_AVL', 'TP_Duration_V3', 'R_Duration_AVR', 'QRS_ST_REVERSE_AVR', 'P_Duration_V6', 'T_Area_AVL', 'RP_PeakTime_III', 'T_Duration_V1', 'STE_V3', 'P_OnsetAmpl_V1', 'TP_PeakAmpl_V2', 'Max_R_Ampl_V1', 'QRS_T_REVERSE_V1', 'PFull_Area_I', 'P_OnsetAmpl_V5', 'TP_PeakTime_V5', 'T_PeakTime_V2', 'RP_PeakTime_V4', 'PP_Area_AVR', 'T_End_III', 'T_End_V6', 'DLTWV_II', 'TP_PeakAmpl_V4', 'QTcFredericia', 'P_Area_V2', 'QRS_ST_REVERSE_V4', 'P_PeakAmpl_V2', 'QRS_Deflection_V2', 'STDOWN_I', 'R_PeakTime_III', 'Q_PeakTime_V4', 'SP_Duration_III', 'TAxis', 'T_Duration_III', 'QRS_ST_REVERSE_II', 'DLTWV_I', 'Q_PeakAmpl_aVF', 'P_Area_V5', 'PP_PeakAmpl_II', 'T_PeakTime_V1', 'RP_PeakAmpl_III', 'SP_Duration_V2', 'T_End_V3', 'T_PeakTime_V5', 'STM_aVF', 'P_Area_V1', 'STELEV_AVF', 'R_Area_AVR', 'T_Duration_II', 'STDOWN_AVR', 'PP_PeakAmpl_I', 'STINJ_AVL', 'DLTWV_V5', 'TP_PeakAmpl_II', 'QRS_ST_REVERSE_V1', 'PP_Area_III', 'Q_PeakAmpl_AVR', 'TP_PeakTime_V2', 'P_Area_AVL', 'T_Area_V6', 'JELEV_III', 'RP_PeakTime_V2', 'SP_Area_V1', 'QRS_Deflection_V4', 'PP_PeakAmpl_V1', 'Q_Area_V2', 'TP_Area_V2', 'MinST_V4', 'RP_Area_V6', 'JELEV_II', 'TP_Duration_AVL', 'TP_PeakTime_aVF', 'QRS_ST_REVERSE_AVL', 'STDOWN_V6', 'SP_PeakTime_V5', 'Q_PeakAmpl_V1', 'P_PeakTime_V1', 'R_Duration_V4', 'Q_Duration_V5', 'TP_PeakAmpl_aVF', 'STINJ_AVF', 'DLTWV_AVR', 'Q_Duration_V1', 'TFull_Area_AVL', 'Max_R_Ampl_V6', 'Q_Area_II', 'SP_PeakAmpl_III', 'TP_Area_V5', 'T_Special_aVF', 'TFull_Area_V2', 'S_PeakAmpl_AVL', 'TTALL_V1', 'P_PeakAmpl_AVR', 'R_Duration_V1', 'AtrialRate', 'PFull_Area_AVR', 'SP_Area_V5', 'P_OnsetAmpl_V6', 'STINJ_V4', 'STJ_III', 'PP_PeakTime_V3', 'Q_Duration_III', 'P_Duration_III', 'TP_Area_III', 'QOffset', 'PP_Area_V1', 'RP_PeakTime_II', 'R_Duration_V5', 'RP_Duration_V4', 'T_Area_AVR', 'R_Duration_III', 'T_End_I', 'SP_Duration_V5', 'RAxis', 'JELEV_V6', 'MaxST_V2', 'PP_PeakTime_V6', 'SP_Duration_aVF', 'RP_Area_AVL', 'Q_PeakAmpl_V4', 'RP_Duration_II', 'RP_PeakAmpl_V6', 'QRS_ST_REVERSE_V6', 'S_PeakAmpl_V1', 'TP_PeakTime_III', 'SP_Area_V4', 'STJ_I', 'Q_PeakAmpl_V5', 'T_End_V1', 'P_OnsetAmpl_AVL', 'P_PeakTime_V3', 'S_Area_V1', 'QRS_ST_REVERSE_V3', 'T_Area_aVF', 'RP_Area_II', 'TP_Duration_aVF', 'ST_T_REVERSE_I', 'RP_Duration_AVR', 'STELEV_II', 'QRS_T_REVERSE_AVL', 'DLTWV_V3', 'T_PeakTime_V4', 'RP_Area_I', 'S_Duration_V3', 'PP_PeakTime_V5', 'TP_Duration_V5', 'S_Duration_V6', 'T_PeakAmpl_V6', 'SP_Duration_V4', 'Q_Duration_AVR', 'T_End_V2', 'DLTWV_V6', 'T_Area_V3', 'RP_Duration_V3', 'TP_Duration_I', 'T_PeakTime_AVR', 'TFull_Area_aVF', 'RP_Duration_V1', 'PP_PeakAmpl_AVL', 'SP_PeakTime_aVF', 'P_Duration_V5', 'T_PeakTime_II', 'SP_PeakTime_II', 'R_PeakTime_II', 'P_Duration_AVL', 'SP_PeakAmpl_II', 'STINJ_AVR', 'RP_PeakTime_V3', 'QRS_T_REVERSE_III', 'Q_Duration_V3', 'Q_PeakTime_V1', 'TP_Duration_II', 'BRUGFLG_V1', 'RP_PeakAmpl_AVR', 'SP_PeakTime_V4', 'Q_Area_AVL', 'STDOWN_V2', 'PFull_Area_V4', 'PFull_Area_V1', 'Q_PeakTime_III', 'Q_Duration_aVF', 'T_Area_V2', 'P_Area_aVF', 'RP_Area_aVF', 'TP_Duration_V4', 'ST_T_REVERSE_V4', 'QRS_T_REVERSE_AVR', 'STM_V3', 'TP_PeakAmpl_V3', 'P_PeakTime_I', 'STDOWN_V3', 'DLTWV_III', 'Q_PeakTime_II', 'STELEV_I', 'PFull_Area_II', 'T_Area_III', 'QRS_ST_REVERSE_III', 'STINJ_III', 'PP_Area_II', 'QRSint_AVR', 'TP_Duration_V1', 'SP_PeakTime_V3', 'RP_Duration_AVL', 'QRS_Deflection_V1', 'QRSint_aVF', 'TFull_Area_V5', 'PP_Duration_aVF', 'Q_PeakTime_AVL', 'S_PeakTime_V5', 'TP_Area_I', 'S_PeakTime_V1', 'QRS_T_REVERSE_V6', 'TFull_Area_III', 'STE_V1', 'R_PeakTime_AVL', 'JELEV_V2', 'POnset', 'STELEV_V6', 'Max_S_Ampl_I', 'TFull_Area_V3', 'TP_Area_V1', 'S_PeakTime_AVR', 'STELEV_V1', 'QRS_T_REVERSE_V3', 'QOnset', 'TP_Duration_V2', 'ST_T_REVERSE_V2', 'TP_Area_V6', 'TTALL_I', 'SP_PeakAmpl_aVF', 'STELEV_III', 'RP_PeakAmpl_V3', 'PFull_Area_V3', 'STDOWN_V4', 'TP_Duration_V6', 'QRSint_V2', 'PP_PeakTime_V2', 'TTALL_V6', 'MaxST_V3', 'TP_Duration_III', 'DLTWV_AVL', 'STELEV_V3', 'QRS_ST_REVERSE_AVF', 'R_Duration_II', 'S_Area_AVR', 'JELEV_I', 'Max_S_Ampl_V5', 'SP_PeakAmpl_V4', 'TTALL_AVL', 'QRS_Balance_II', 'STM_III', 'TP_PeakTime_AVL', 'STINJ_V1', 'S_PeakTime_I', 'TTALL_II', 'S_PeakAmpl_I', 'T_PeakAmpl_III', 'P_Area_II', 'QRS_Balance_V6', 'T_PeakAmpl_V2', 'TP_PeakTime_AVR', 'STM_AVL', 'S_PeakTime_aVF', 'Q_Duration_V4', 'Q_PeakTime_V2', 'STDOWN_AVL', 'JELEV_AVF', 'Q_Area_AVR', 'S_PeakTime_V3', 'SP_Area_V3', 'R_PeakTime_V3', 'SP_PeakAmpl_V3', 'STINJ_II', 'P_PeakAmpl_II', 'DLTWV_AVF', 'T_Duration_AVR', 'TTALL_V5', 'R_Area_V2', 'S_PeakTime_III', 'MaxST_III', 'P_Duration_aVF', 'QRS_T_REVERSE_V5', 'TP_PeakTime_V3', 'PFull_Area_AVL', 'S_PeakAmpl_II', 'QRSint_AVL', 'ST_T_REVERSE_II', 'SP_PeakTime_AVL', 'QTcFramingham', 'T_End_AVR', 'PFull_Area_V2', 'QRSint_V3', 'PP_PeakTime_V1', 'Q_PeakTime_aVF', 'R_PeakAmpl_V6', 'QRS_Balance_I', 'P_PeakAmpl_V6', 'QRSint_V4', 'P_PeakAmpl_AVL', 'TP_PeakAmpl_V5', 'STDOWN_V1', 'PP_Area_I', 'P_OnsetAmpl_III', 'P_PeakTime_AVR', 'SP_Duration_V1', 'PP_PeakTime_III', 'TTALL_V2', 'T_Duration_I', 'T_Duration_V2', 'SP_Area_V6', 'POffset', 'QRSint_I', 'R_PeakTime_AVR', 'PP_PeakAmpl_V6', 'STE_V2', 'T_End_aVF', 'SP_PeakAmpl_V6', 'QRS_ST_REVERSE_V5', 'RP_PeakAmpl_V4', 'P_Area_V6', 'TP_Duration_AVR', 'QRS_T_REVERSE_V2', 'Q_Duration_V2', 'Q_Area_V1', 'P_PeakAmpl_V4', 'TP_PeakAmpl_III', 'QRS_Area_V1', 'T_Duration_V3', 'PP_Duration_V2', 'MinST_III', 'Q_Area_III', 'STELEV_AVL', 'P_Area_I', 'P_PeakAmpl_aVF', 'TTALL_AVR', 'T_End_II', 'STM_V1', 'P_OnsetAmpl_V3', 'S_Duration_AVR', 'TP_PeakAmpl_AVL', 'PP_Duration_AVR', 'QRS_Deflection_V5', 'P_PeakTime_AVL', 'RP_Duration_V5', 'P_PeakAmpl_V1', 'TP_PeakTime_I', 'ST_T_REVERSE_V3', 'STJ_V4', 'T_Duration_V4', 'T_End_AVL', 'Max_R_Ampl_I', 'R_PeakAmpl_V1', 'R_Duration_I', 'RP_PeakTime_aVF', 'S_PeakTime_AVL', 'T_PeakAmpl_AVL', 'PP_PeakAmpl_III', 'PP_Area_V5', 'SP_PeakAmpl_AVR', 'T_Duration_V5', 'TTALL_V3', 'PP_Area_V6', 'PP_Area_V3', 'PP_Duration_AVL', 'PFull_Area_V6', 'T_End_V4', 'R_PeakTime_V1', 'SP_PeakTime_V2', 'P_PeakTime_V6', 'T_PeakTime_III', 'RP_PeakAmpl_AVL', 'P_Area_V3', 'PP_Duration_III', 'P_Duration_V3', 'STELEV_AVR', 'TP_PeakAmpl_V6', 'RP_PeakTime_V1', 'ST_T_REVERSE_V1', 'P_Area_AVR', 'R_Duration_V3', 'P_PeakAmpl_III', 'Q_Area_aVF', 'TTALL_V4', 'S_Area_V6', 'T_PeakTime_V3', 'QRS_T_REVERSE_AVF', 'JELEV_AVR', 'P_Duration_V1', 'T_Duration_aVF', 'PP_PeakAmpl_V2', 'Q_Area_V3', 'STINJ_V3', 'SP_PeakTime_I', 'QRS_ST_REVERSE_I', 'PP_Area_V2', 'STE_aVF', 'QRS_Deflection_V6', 'PFull_Area_V5', 'Q_Duration_I', 'ST_T_REVERSE_V5', 'T_Special_AVL', 'Max_S_Ampl_V1', 'SP_Duration_II', 'P_PeakAmpl_V3', 'STINJ_V5', 'P_PeakAmpl_V5', 'Q_PeakAmpl_I', 'S_PeakTime_V4', 'QRSDuration', 'T_PeakAmpl_AVR', 'TOffset', 'TP_PeakAmpl_I', 'PP_PeakTime_AVR', 'PP_PeakAmpl_AVR', 'STELEV_V5', 'STJ_AVR', 'Q_PeakAmpl_AVL', 'T_PeakTime_aVF', 'P_PeakTime_III', 'STINJ_I', 'RP_Area_AVR', 'PP_Duration_V4', 'RP_PeakAmpl_I', 'Q_PeakAmpl_III', 'DLTWV_V2', 'R_PeakAmpl_I', 'SP_PeakTime_V1', 'T_PeakTime_AVL', 'P_OnsetAmpl_V2', 'P_PeakAmpl_I', 'TP_PeakTime_V4', 'Q_PeakTime_AVR', 'RP_PeakAmpl_V1', 'STDOWN_AVF', 'QRS_Area_AVR', 'RP_Area_V1', 'S_Area_II', 'STM_V2', 'SP_Duration_V6', 'STDOWN_II', 'SP_Duration_AVR', 'P_Duration_V4', 'T_End_V5', 'ST_T_REVERSE_AVL', 'PP_Area_AVL', 'T_PeakAmpl_V3', 'SP_Area_I'}\n"
          ]
        }
      ]
    },
    {
      "cell_type": "code",
      "source": [
        "# Run K Clustering On the 277 Traits\n",
        "# Step 1: Determine optimal number of clusters using Elbow Method\n",
        "wcss = []  # Within-cluster sum of squares\n",
        "K_range = range(2, 10)  # Test clusters from 2 to 10\n",
        "\n",
        "for k in K_range:\n",
        "    kmeans = KMeans(n_clusters=k, random_state=42, n_init=10)\n",
        "    kmeans.fit(df_significant_features.transpose())\n",
        "    wcss.append(kmeans.inertia_)  # Inertia = sum of squared distances to cluster center\n",
        "\n",
        "# Step 2: Plot the Elbow Curve\n",
        "plt.figure(figsize=(8, 5))\n",
        "plt.plot(K_range, wcss, marker='o', linestyle='--')\n",
        "plt.xlabel('Number of Clusters (K)')\n",
        "plt.ylabel('WCSS (Inertia)')\n",
        "plt.title('Elbow Method for Optimal K')\n",
        "plt.grid(True)\n",
        "plt.show()"
      ],
      "metadata": {
        "colab": {
          "base_uri": "https://localhost:8080/",
          "height": 487
        },
        "id": "04sl6KbX_NC8",
        "outputId": "603bdf31-4f65-4f9b-8f54-48d8fbd94802"
      },
      "execution_count": null,
      "outputs": [
        {
          "output_type": "display_data",
          "data": {
            "text/plain": [
              "<Figure size 800x500 with 1 Axes>"
            ],
            "image/png": "[encoded data removed]"
          },
          "metadata": {}
        }
      ]
    },
    {
      "cell_type": "code",
      "source": [
        "# Step 3: Apply K-Means with the optimal number of clusters\n",
        "kmeans = KMeans(n_clusters= 3, random_state=42, n_init=10)\n",
        "df_features = pd.DataFrame(significant_features,columns=['features'])\n",
        "df_features['assignment'] = kmeans.fit_predict(df_significant_features.transpose())"
      ],
      "metadata": {
        "id": "T-nW2ySt_3N2"
      },
      "execution_count": 14,
      "outputs": []
    },
    {
      "cell_type": "code",
      "source": [
        "# Step 4: Seperate original dataset into seperate groupings of features\n",
        "# 4a) For each cluster get a subset of the dataset with those features and if MI is present\n",
        "df_features\n",
        "# 4b)\n",
        "# This dict will hold the separate patient DataFrames for each cluster\n",
        "df_clusters = {}\n",
        "\n",
        "# Additional useful columns (like the target label and patient ID)\n",
        "extra_columns = ['PatientID', 'MI_Phys']\n",
        "\n",
        "# For each cluster, extract only the patient data for the assigned features\n",
        "for assignment, features in cluster_mapping.items():\n",
        "    # Make sure all requested columns exist\n",
        "    available_features = [col for col in features if col in df_patients.columns]\n",
        "    all_columns = list(set(extra_columns + available_features))\n",
        "    df_clusters[assignment] = df_patients[all_columns]\n",
        "df_clusters"
      ],
      "metadata": {
        "colab": {
          "base_uri": "https://localhost:8080/"
        },
        "id": "SRCv4LCuKEbR",
        "outputId": "2d6ced57-7948-4fe0-c679-a9958803a95e"
      },
      "execution_count": 16,
      "outputs": [
        {
          "output_type": "execute_result",
          "data": {
            "text/plain": [
              "{0:        RP_Duration_V2  STELEV_V2  Q_Duration_AVL  Q_Area_V5  P_PeakTime_II  \\\n",
              " 0                   0          0               0          0             70   \n",
              " 1                   0          0               0          0             52   \n",
              " 2                   0          4              17          0             44   \n",
              " 3                   0          0               0         33             48   \n",
              " 4                   0          0               0          0             54   \n",
              " ...               ...        ...             ...        ...            ...   \n",
              " 77312               0          4              21          0             58   \n",
              " 77313               0          0               0         87             64   \n",
              " 77314               0          0              84          0             56   \n",
              " 77315               0          4               0         12             32   \n",
              " 77316               0          0              18          0             42   \n",
              " \n",
              "        S_PeakAmpl_V6  Q_Duration_II  SP_Area_AVR  RP_PeakTime_AVL  \\\n",
              " 0                  0              0            0                0   \n",
              " 1                  0             13            0                0   \n",
              " 2                  0              0            0                0   \n",
              " 3                429              0            0                0   \n",
              " 4                  0              0            0                0   \n",
              " ...              ...            ...          ...              ...   \n",
              " 77312             83              0            0                0   \n",
              " 77313            214             36            0                0   \n",
              " 77314            136              0            0                0   \n",
              " 77315              0              0            0                0   \n",
              " 77316            346              0            0                0   \n",
              " \n",
              "        P_PeakTime_V2  ...  STM_V2  SP_Duration_V6  STDOWN_II  SP_Duration_AVR  \\\n",
              " 0                 70  ...      29               0          0                0   \n",
              " 1                 38  ...     263               0          0                0   \n",
              " 2                 42  ...      24               0          0                0   \n",
              " 3                 50  ...     156               0          0                0   \n",
              " 4                 38  ...      87               0          0                0   \n",
              " ...              ...  ...     ...             ...        ...              ...   \n",
              " 77312             34  ...     268               0          2                0   \n",
              " 77313             40  ...     102               0          0                0   \n",
              " 77314             32  ...       4               0          2                0   \n",
              " 77315             18  ...      34               0          0                0   \n",
              " 77316             34  ...     283               0          0                0   \n",
              " \n",
              "        P_Duration_V4  T_End_V5  ST_T_REVERSE_AVL  PP_Area_AVL  T_PeakAmpl_V3  \\\n",
              " 0                112        39                 0            0            190   \n",
              " 1                108        24                 0            0            825   \n",
              " 2                 94        39                 0            0            268   \n",
              " 3                116       107                 0            0           1250   \n",
              " 4                104        29                 0            0            483   \n",
              " ...              ...       ...               ...          ...            ...   \n",
              " 77312            116        14                 0            0            327   \n",
              " 77313            118        48                 0            0            478   \n",
              " 77314            100        14                 0            0             92   \n",
              " 77315              0        29                 0            0            380   \n",
              " 77316            106        39                 0            0            190   \n",
              " \n",
              "        RP_Duration_AVR  \n",
              " 0                    0  \n",
              " 1                    0  \n",
              " 2                    0  \n",
              " 3                    0  \n",
              " 4                    0  \n",
              " ...                ...  \n",
              " 77312                0  \n",
              " 77313               16  \n",
              " 77314                0  \n",
              " 77315                0  \n",
              " 77316                0  \n",
              " \n",
              " [77317 rows x 585 columns],\n",
              " 1:        QRS_Deflection_V2  Max_R_Ampl_V5  TFull_Area_II  R_PeakAmpl_V5  \\\n",
              " 0                   1772            590           1157            590   \n",
              " 1                   3544           1933           2521           1933   \n",
              " 2                   1308            854           1113            854   \n",
              " 3                   2899           2089           2570           2089   \n",
              " 4                   2425           1508           2914           1508   \n",
              " ...                  ...            ...            ...            ...   \n",
              " 77312               2958           1445           1576           1445   \n",
              " 77313               1567            756           2013            756   \n",
              " 77314               1234           1083           -183           1083   \n",
              " 77315                995            747           1874            747   \n",
              " 77316               1893           2490            641           2490   \n",
              " \n",
              "        MI_Phys  R_PeakAmpl_V6 PatientID  QRS_Balance_V6  Max_R_Ampl_V6  \\\n",
              " 0            0            507   HR00001             507            507   \n",
              " 1            0           1489   HR00002            1436           1489   \n",
              " 2            0            722   HR00003             722            722   \n",
              " 3            0           1533   HR00004            1104           1533   \n",
              " 4            0           1293   HR00005            1279           1293   \n",
              " ...        ...            ...       ...             ...            ...   \n",
              " 77312        1           1411     Q3577            1328           1411   \n",
              " 77313        0            551     Q3578             337            551   \n",
              " 77314        1            883     Q3579             747            883   \n",
              " 77315        0            463     Q3580             439            463   \n",
              " 77316        1           1855     Q3581            1509           1855   \n",
              " \n",
              "        TFull_Area_aVF  ...  T_Area_aVF  Max_S_Ampl_V1  TFull_Area_V6  \\\n",
              " 0                 724  ...         741            688           1056   \n",
              " 1                1353  ...        1365           1699           2140   \n",
              " 2                 354  ...         371            698           1051   \n",
              " 3                1686  ...        1698            585           2890   \n",
              " 4                2343  ...        2368            820           1518   \n",
              " ...               ...  ...         ...            ...            ...   \n",
              " 77312            1282  ...        1296           1293           1358   \n",
              " 77313            1984  ...        2005            693           1363   \n",
              " 77314            -352  ...        -406            659            -80   \n",
              " 77315            1610  ...        1626            195           1081   \n",
              " 77316             871  ...         887           1015          -1893   \n",
              " \n",
              "        QRS_Area_II  QRS_Balance_II  T_Area_V6  S_PeakAmpl_V2  \\\n",
              " 0              570             444       1060           1411   \n",
              " 1             1397            1382       2143           2963   \n",
              " 2              808             747       1054           1025   \n",
              " 3             1353            1182       2900           1767   \n",
              " 4             1550            1376       1521           1840   \n",
              " ...            ...             ...        ...            ...   \n",
              " 77312         1055             620       1359           1782   \n",
              " 77313           86              83       1366           1123   \n",
              " 77314         1062             839          0           1142   \n",
              " 77315         -855            -551       1086            527   \n",
              " 77316          488             371      -1901           1503   \n",
              " \n",
              "        QRS_Deflection_III  QRS_Deflection_V4  QRS_Deflection_II  \n",
              " 0                     346                810                444  \n",
              " 1                     838               3217               1420  \n",
              " 2                     385               1279                747  \n",
              " 3                    1463               4462               1884  \n",
              " 4                    1102               1782               1376  \n",
              " ...                   ...                ...                ...  \n",
              " 77312                 268               2430                620  \n",
              " 77313                 311               1484                405  \n",
              " 77314                 664               1669                839  \n",
              " 77315                 615               1419                619  \n",
              " 77316                1205               3715               1669  \n",
              " \n",
              " [77317 rows x 29 columns],\n",
              " 2:       PatientID  TFull_Area_V3  T_Area_V2  MI_Phys  TFull_Area_V2  T_Area_V3\n",
              " 0       HR00001            973       1240        0           1210        973\n",
              " 1       HR00002           4263       3622        0           3616       4270\n",
              " 2       HR00003           1996       1183        0           1180       1999\n",
              " 3       HR00004           6468       3892        0           3880       6483\n",
              " 4       HR00005           2661       2506        0           2502       2665\n",
              " ...         ...            ...        ...      ...            ...        ...\n",
              " 77312     Q3577           2144       3045        1           3040       2146\n",
              " 77313     Q3578           2569       3366        0           3361       2574\n",
              " 77314     Q3579            422        816        1            808        483\n",
              " 77315     Q3580           2430       1409        0           1406       2432\n",
              " 77316     Q3581            583       3941        1           3932        734\n",
              " \n",
              " [77317 rows x 6 columns]}"
            ]
          },
          "metadata": {},
          "execution_count": 16
        }
      ]
    },
    {
      "cell_type": "code",
      "source": [
        "rf_models = {}\n",
        "\n",
        "for cluster_id, subset in df_clusters.items():\n",
        "    # Drop target + non-feature columns\n",
        "    X = subset.drop(columns=['MI_Phys', 'PatientID'])\n",
        "    y = subset['MI_Phys']\n",
        "\n",
        "    X_train, X_test, y_train, y_test = train_test_split(X, y, test_size=0.2, random_state=42)\n",
        "\n",
        "    rf = RandomForestClassifier(n_estimators=100, max_depth=10, n_jobs=-1, random_state=42)\n",
        "    rf.fit(X_train, y_train)\n",
        "\n",
        "    y_pred = rf.predict(X_test)\n",
        "    print(f\"\\nCluster {cluster_id} Model Performance:\")\n",
        "    print(classification_report(y_test, y_pred))\n",
        "\n",
        "    rf_models[cluster_id] = rf"
      ],
      "metadata": {
        "id": "eNPAG4seDVYt",
        "colab": {
          "base_uri": "https://localhost:8080/"
        },
        "outputId": "18594f98-8395-416c-c8c0-4de626c8baff"
      },
      "execution_count": 17,
      "outputs": [
        {
          "output_type": "stream",
          "name": "stdout",
          "text": [
            "\n",
            "Cluster 0 Model Performance:\n",
            "              precision    recall  f1-score   support\n",
            "\n",
            "           0       0.93      0.99      0.96     13895\n",
            "           1       0.82      0.31      0.45      1569\n",
            "\n",
            "    accuracy                           0.92     15464\n",
            "   macro avg       0.87      0.65      0.70     15464\n",
            "weighted avg       0.92      0.92      0.91     15464\n",
            "\n",
            "\n",
            "Cluster 1 Model Performance:\n",
            "              precision    recall  f1-score   support\n",
            "\n",
            "           0       0.91      0.99      0.95     13895\n",
            "           1       0.71      0.15      0.24      1569\n",
            "\n",
            "    accuracy                           0.91     15464\n",
            "   macro avg       0.81      0.57      0.60     15464\n",
            "weighted avg       0.89      0.91      0.88     15464\n",
            "\n",
            "\n",
            "Cluster 2 Model Performance:\n",
            "              precision    recall  f1-score   support\n",
            "\n",
            "           0       0.90      1.00      0.95     13895\n",
            "           1       0.67      0.00      0.01      1569\n",
            "\n",
            "    accuracy                           0.90     15464\n",
            "   macro avg       0.78      0.50      0.48     15464\n",
            "weighted avg       0.88      0.90      0.85     15464\n",
            "\n"
          ]
        }
      ]
    },
    {
      "cell_type": "code",
      "source": [
        "# Step 1: Build meta-dataset\n",
        "first_cluster = list(df_clusters.keys())[0]\n",
        "meta_data['PatientID'] = df_clusters[first_cluster]['PatientID']\n",
        "meta_data['MI_Phys'] = df_clusters[first_cluster]['MI_Phys']\n",
        "\n",
        "# Add prediction probabilities from each cluster model\n",
        "for cluster_id in df_clusters:\n",
        "    X_cluster = df_clusters[cluster_id].drop(columns=['MI_Phys', 'PatientID'])\n",
        "    preds = rf_models[cluster_id].predict_proba(X_cluster)[:, 1]  # probability of MI=1\n",
        "    meta_data[f'pred_{cluster_id}'] = preds\n",
        "\n",
        "# Step 2: Split meta features and target\n",
        "X_meta = meta_data.drop(columns=['PatientID', 'MI_Phys'])\n",
        "y_meta = meta_data['MI_Phys']\n",
        "\n",
        "X_train, X_test, y_train, y_test = train_test_split(X_meta, y_meta, test_size=0.2, random_state=42)\n",
        "\n",
        "# Step 3: Train Random Forest as meta-model\n",
        "meta_rf = RandomForestClassifier(n_estimators=100, max_depth=5, random_state=42)\n",
        "meta_rf.fit(X_train, y_train)\n",
        "\n",
        "# Step 4: Evaluate meta-model\n",
        "y_pred = meta_rf.predict(X_test)\n",
        "print(\"\\nMeta Random Forest Performance:\")\n",
        "print(classification_report(y_test, y_pred))\n",
        "\n",
        "# Step 5 (Optional): Interpret feature importance\n",
        "importances = meta_rf.feature_importances_\n",
        "for feat, imp in zip(X_meta.columns, importances):\n",
        "    print(f\"{feat}: {imp:.4f}\")"
      ],
      "metadata": {
        "id": "FQPg1TGxDYCt",
        "colab": {
          "base_uri": "https://localhost:8080/"
        },
        "outputId": "8037bedc-036a-4ded-e1c8-9877cf7530a6"
      },
      "execution_count": 20,
      "outputs": [
        {
          "output_type": "stream",
          "name": "stdout",
          "text": [
            "\n",
            "Meta Random Forest Performance:\n",
            "              precision    recall  f1-score   support\n",
            "\n",
            "           0       0.95      0.97      0.96     13895\n",
            "           1       0.67      0.52      0.58      1569\n",
            "\n",
            "    accuracy                           0.92     15464\n",
            "   macro avg       0.81      0.74      0.77     15464\n",
            "weighted avg       0.92      0.92      0.92     15464\n",
            "\n",
            "pred_0: 0.5523\n",
            "pred_1: 0.3720\n",
            "pred_2: 0.0757\n"
          ]
        }
      ]
    },
    {
      "cell_type": "code",
      "source": [],
      "metadata": {
        "id": "qc_LS3MDEEed"
      },
      "execution_count": null,
      "outputs": []
    }
  ]
}