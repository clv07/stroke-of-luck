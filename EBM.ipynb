{
    "cells": [
        {
            "cell_type": "markdown",
            "metadata": {},
            "source": [
                "# Explainable Boosting Machine (EBM) Model Notebook\n",
                "\n",
                "This notebook demonstrates how to build an Explainable Boosting Machine (EBM) model using the `interpret` package. Note that the EBM model currently runs on the CPU only."
            ]
        },
        {
            "cell_type": "code",
            "execution_count": 28,
            "metadata": {},
            "outputs": [],
            "source": [
                "# Import libraries\n",
                "import numpy as np\n",
                "import pandas as pd\n",
                "import matplotlib.pyplot as plt\n",
                "import seaborn as sns\n",
                "\n",
                "from sklearn.model_selection import train_test_split\n",
                "from sklearn.metrics import accuracy_score, confusion_matrix, classification_report\n",
                "\n",
                "# Import the EBM classifier\n",
                "from interpret.glassbox import ExplainableBoostingClassifier\n",
                "from interpret import show\n",
                "\n",
                "# Set plot style\n",
                "sns.set(style='whitegrid')"
            ]
        },
        {
            "cell_type": "code",
            "execution_count": 29,
            "metadata": {},
            "outputs": [
                {
                    "name": "stdout",
                    "output_type": "stream",
                    "text": [
                        "  PatientID                              12SL_Codes Source  \\\n",
                        "0   HR00008       22,542,1665,533,1666,780,831,1699  PTBXL   \n",
                        "1   HR00077                         22,964,821,1699  PTBXL   \n",
                        "2   HR00085  22,542,1665,531,1666,1682,740,831,1699  PTBXL   \n",
                        "3   HR00103                     23,470,780,831,1699  PTBXL   \n",
                        "4   HR00128                    22,1682,780,831,1699  PTBXL   \n",
                        "\n",
                        "                                          Phys_Codes  MI_12SL  MI_Phys  \\\n",
                        "0          164865005, 164951009, 39732003, 426783006        1        1   \n",
                        "1                     426783006, 54329005, 713426002        1        1   \n",
                        "2                                          426783006        1        0   \n",
                        "3  164865005, 164951009, 39732003, 427084000, 445...        1        1   \n",
                        "4                                          164934002        1        0   \n",
                        "\n",
                        "   TestID  PatientAge  Gender AcquisitionDateTime_DT  ...  STDOWN_V6  \\\n",
                        "0       8         NaN     NaN    2020-04-23 07:59:54  ...          0   \n",
                        "1      77         NaN     NaN    2020-04-23 07:59:58  ...          0   \n",
                        "2      85         NaN     NaN    2020-04-23 07:59:58  ...          0   \n",
                        "3     103         NaN     NaN    2020-04-23 07:59:58  ...          0   \n",
                        "4     128         NaN     NaN    2020-04-23 08:00:00  ...          2   \n",
                        "\n",
                        "   STELEV_V6  JELEV_V6  DLTWV_V6  STINJ_V6  PPDEEP_V6  QRS_T_REVERSE_V6  \\\n",
                        "0          0         0         0         0          0                 0   \n",
                        "1          0         0         0         0          0                 0   \n",
                        "2          4         0         0         0          0                 0   \n",
                        "3          0         0         0         0          0                 0   \n",
                        "4          4         0         0         0          0                 0   \n",
                        "\n",
                        "   QRS_ST_REVERSE_V6  ST_T_REVERSE_V6  BRUGFLG_V6  \n",
                        "0                  0                0           0  \n",
                        "1                  0                0           0  \n",
                        "2                  0                0           0  \n",
                        "3                  0                0           0  \n",
                        "4                  0                0           0  \n",
                        "\n",
                        "[5 rows x 784 columns]\n",
                        "<class 'pandas.core.frame.DataFrame'>\n",
                        "RangeIndex: 77317 entries, 0 to 77316\n",
                        "Columns: 784 entries, PatientID to BRUGFLG_V6\n",
                        "dtypes: datetime64[ns](1), float64(7), int64(772), object(4)\n",
                        "memory usage: 462.5+ MB\n",
                        "None\n",
                        "PatientID            0\n",
                        "12SL_Codes           0\n",
                        "Source               0\n",
                        "Phys_Codes           0\n",
                        "MI_12SL              0\n",
                        "                    ..\n",
                        "PPDEEP_V6            0\n",
                        "QRS_T_REVERSE_V6     0\n",
                        "QRS_ST_REVERSE_V6    0\n",
                        "ST_T_REVERSE_V6      0\n",
                        "BRUGFLG_V6           0\n",
                        "Length: 784, dtype: int64\n"
                    ]
                }
            ],
            "source": [
                "import pandas as pd\n",
                "\n",
                "df1 = pd.read_csv('positive.csv', na_values=['NULL'])\n",
                "\n",
                "df2 = pd.read_csv('negative.csv', na_values=['NULL'])\n",
                "\n",
                "df = pd.concat([df1, df2], ignore_index=True)\n",
                "\n",
                "df['AcquisitionDateTime_DT'] = pd.to_datetime(df['AcquisitionDateTime_DT'])\n",
                "\n",
                "print(df.head())\n",
                "\n",
                "print(df.info())\n",
                "print(df.isnull().sum())"
            ]
        },
        {
            "cell_type": "code",
            "execution_count": 30,
            "metadata": {},
            "outputs": [],
            "source": [
                "from interpret.glassbox import ExplainableBoostingClassifier\n",
                "from interpret import show\n",
                "from sklearn.model_selection import train_test_split\n",
                "from sklearn.metrics import accuracy_score\n",
                "\n",
                "df = df.fillna(-1000)  # Use an extreme value so it appears in the plot\n",
                "\n",
                "y = df[\"MI_Phys\"]\n",
                "X = df.drop(columns=[\"PatientID\", \"12SL_Codes\", \"Phys_Codes\", \"TestID\", \"Source\", \n",
                "                     \"Gender\", \"PatientAge\", \"AcquisitionDateTime_DT\", \"MI_Phys\"])\n",
                "\n",
                "X_train, X_test, y_train, y_test = train_test_split(X, y, test_size=0.2, stratify=y, random_state=42)\n",
                "\n",
                "# Save the original algorithm's prediction for test set before dropping it\n",
                "y_12SL = X_test[\"MI_12SL\"]\n",
                "\n",
                "# Split data based on MI_12SL classification\n",
                "X_train_pos = X_train[X_train[\"MI_12SL\"] == 1].drop(columns=[\"MI_12SL\"])\n",
                "X_train_neg = X_train[X_train[\"MI_12SL\"] == 0].drop(columns=[\"MI_12SL\"])\n",
                "X_test_pos = X_test[X_test[\"MI_12SL\"] == 1].drop(columns=[\"MI_12SL\"])\n",
                "X_test_neg = X_test[X_test[\"MI_12SL\"] == 0].drop(columns=[\"MI_12SL\"])\n",
                "\n",
                "# Ensure y labels match the correct samples\n",
                "y_train_pos = y_train.loc[X_train_pos.index]  # True positives or false positives\n",
                "y_train_neg = y_train.loc[X_train_neg.index]  # True negatives or false negatives\n",
                "y_test_pos = y_test.loc[X_test_pos.index]\n",
                "y_test_neg = y_test.loc[X_test_neg.index]\n",
                "\n",
                "X_train = X_train.drop(columns=[\"MI_12SL\"])\n",
                "X_test = X_test.drop(columns=[\"MI_12SL\"])\n",
                "\n",
                "# Extract MI_12SL predictions for only the positive subset\n",
                "y_12SL_pos = y_12SL.loc[X_test_pos.index]  # Original classifier's labels\n",
                "y_12SL_neg = y_12SL.loc[X_test_neg.index]\n"
            ]
        },
        {
            "cell_type": "code",
            "execution_count": 31,
            "metadata": {},
            "outputs": [],
            "source": [
                "# from sklearn.impute import SimpleImputer\n",
                "\n",
                "# imputer = SimpleImputer(strategy='constant', fill_value=-1000)\n",
                "# X_train_pos = imputer.fit_transform(X_train_pos)\n",
                "# X_test_pos = imputer.transform(X_test_pos)\n",
                "# X_train_neg = imputer.fit_transform(X_train_neg)\n",
                "# X_test_neg = imputer.transform(X_test_neg)"
            ]
        },
        {
            "cell_type": "code",
            "execution_count": 32,
            "metadata": {},
            "outputs": [
                {
                    "name": "stdout",
                    "output_type": "stream",
                    "text": [
                        "Accuracy: 0.8090478695423461\n",
                        "F1 Score: 0.7665594855305466\n"
                    ]
                },
                {
                    "data": {
                        "text/html": [
                            "<!-- http://127.0.0.1:7001/2193998982288/ -->\n",
                            "<iframe src=\"http://127.0.0.1:7001/2193998982288/\" width=100% height=800 frameBorder=\"0\"></iframe>"
                        ]
                    },
                    "metadata": {},
                    "output_type": "display_data"
                }
            ],
            "source": [
                "ebm = ExplainableBoostingClassifier(\n",
                "    learning_rate=0.2,\n",
                "    max_bins=255,\n",
                "    interactions=2,\n",
                "    min_samples_leaf=10,\n",
                "    n_jobs=-2\n",
                ")\n",
                "ebm.fit(X_train_pos, y_train_pos)\n",
                "\n",
                "# Make predictions\n",
                "y_pred_pos = ebm.predict(X_test_pos)\n",
                "print(\"Accuracy:\", accuracy_score(y_test_pos, y_pred_pos))\n",
                "# F1 score\n",
                "from sklearn.metrics import f1_score\n",
                "print(\"F1 Score:\", f1_score(y_test_pos, y_pred_pos))\n",
                "\n",
                "# Show feature importance\n",
                "show(ebm.explain_global())"
            ]
        },
        {
            "cell_type": "code",
            "execution_count": 33,
            "metadata": {},
            "outputs": [
                {
                    "name": "stderr",
                    "output_type": "stream",
                    "text": [
                        "[I 2025-04-06 21:04:39,317] A new study created in memory with name: no-name-514c508c-3923-48f0-9fa5-af830aa77217\n",
                        "[I 2025-04-06 21:05:20,231] Trial 0 finished with value: 0.7498349834983499 and parameters: {'learning_rate': 0.07543252012890855, 'max_bins': 408, 'interactions': 2, 'min_samples_leaf': 75, 'max_leaves': 42}. Best is trial 0 with value: 0.7498349834983499.\n",
                        "[I 2025-04-06 21:06:05,251] Trial 1 finished with value: 0.7708998085513721 and parameters: {'learning_rate': 0.1619079161090445, 'max_bins': 372, 'interactions': 4, 'min_samples_leaf': 30, 'max_leaves': 2}. Best is trial 1 with value: 0.7708998085513721.\n",
                        "[I 2025-04-06 21:06:51,985] Trial 2 finished with value: 0.7741522712731925 and parameters: {'learning_rate': 0.026146382254965454, 'max_bins': 499, 'interactions': 1, 'min_samples_leaf': 76, 'max_leaves': 5}. Best is trial 2 with value: 0.7741522712731925.\n",
                        "[I 2025-04-06 21:07:33,916] Trial 3 finished with value: 0.7329357190192181 and parameters: {'learning_rate': 0.0967867361831019, 'max_bins': 447, 'interactions': 5, 'min_samples_leaf': 81, 'max_leaves': 64}. Best is trial 2 with value: 0.7741522712731925.\n",
                        "[I 2025-04-06 21:07:38,211] Trial 4 finished with value: 0.7467191601049868 and parameters: {'learning_rate': 0.21580142791486295, 'max_bins': 294, 'interactions': 0, 'min_samples_leaf': 56, 'max_leaves': 37}. Best is trial 2 with value: 0.7741522712731925.\n",
                        "[I 2025-04-06 21:08:24,812] Trial 5 finished with value: 0.7399073461283918 and parameters: {'learning_rate': 0.025729350318912516, 'max_bins': 512, 'interactions': 1, 'min_samples_leaf': 31, 'max_leaves': 56}. Best is trial 2 with value: 0.7741522712731925.\n",
                        "[I 2025-04-06 21:09:07,178] Trial 6 finished with value: 0.7490144546649146 and parameters: {'learning_rate': 0.14390302654236362, 'max_bins': 195, 'interactions': 5, 'min_samples_leaf': 10, 'max_leaves': 50}. Best is trial 2 with value: 0.7741522712731925.\n",
                        "[I 2025-04-06 21:09:53,147] Trial 7 finished with value: 0.7647440051847051 and parameters: {'learning_rate': 0.01122871680320957, 'max_bins': 104, 'interactions': 5, 'min_samples_leaf': 26, 'max_leaves': 21}. Best is trial 2 with value: 0.7741522712731925.\n",
                        "[I 2025-04-06 21:10:03,417] Trial 8 finished with value: 0.7443708609271523 and parameters: {'learning_rate': 0.01309855532064524, 'max_bins': 184, 'interactions': 0, 'min_samples_leaf': 54, 'max_leaves': 47}. Best is trial 2 with value: 0.7741522712731925.\n",
                        "[I 2025-04-06 21:10:42,598] Trial 9 finished with value: 0.7506561679790026 and parameters: {'learning_rate': 0.12203806688475977, 'max_bins': 169, 'interactions': 5, 'min_samples_leaf': 86, 'max_leaves': 43}. Best is trial 2 with value: 0.7741522712731925.\n",
                        "[I 2025-04-06 21:11:25,579] Trial 10 finished with value: 0.7653194263363755 and parameters: {'learning_rate': 0.03504707718032627, 'max_bins': 301, 'interactions': 3, 'min_samples_leaf': 68, 'max_leaves': 20}. Best is trial 2 with value: 0.7741522712731925.\n",
                        "[I 2025-04-06 21:12:08,366] Trial 11 finished with value: 0.7736943907156673 and parameters: {'learning_rate': 0.03427638989215202, 'max_bins': 376, 'interactions': 3, 'min_samples_leaf': 99, 'max_leaves': 3}. Best is trial 2 with value: 0.7741522712731925.\n",
                        "[I 2025-04-06 21:12:53,433] Trial 12 finished with value: 0.7768488745980707 and parameters: {'learning_rate': 0.03838188762669365, 'max_bins': 502, 'interactions': 2, 'min_samples_leaf': 97, 'max_leaves': 2}. Best is trial 12 with value: 0.7768488745980707.\n",
                        "[I 2025-04-06 21:13:37,508] Trial 13 finished with value: 0.7585760517799353 and parameters: {'learning_rate': 0.018732338874303152, 'max_bins': 507, 'interactions': 2, 'min_samples_leaf': 99, 'max_leaves': 17}. Best is trial 12 with value: 0.7768488745980707.\n",
                        "[I 2025-04-06 21:14:20,265] Trial 14 finished with value: 0.7664516129032258 and parameters: {'learning_rate': 0.054095313087549196, 'max_bins': 441, 'interactions': 1, 'min_samples_leaf': 89, 'max_leaves': 11}. Best is trial 12 with value: 0.7768488745980707.\n",
                        "[I 2025-04-06 21:15:03,849] Trial 15 finished with value: 0.7526178010471204 and parameters: {'learning_rate': 0.041348235378625975, 'max_bins': 466, 'interactions': 1, 'min_samples_leaf': 70, 'max_leaves': 29}. Best is trial 12 with value: 0.7768488745980707.\n",
                        "[I 2025-04-06 21:15:49,122] Trial 16 finished with value: 0.7649710238248552 and parameters: {'learning_rate': 0.019991873688870676, 'max_bins': 334, 'interactions': 2, 'min_samples_leaf': 62, 'max_leaves': 10}. Best is trial 12 with value: 0.7768488745980707.\n",
                        "[I 2025-04-06 21:16:33,313] Trial 17 finished with value: 0.75 and parameters: {'learning_rate': 0.06554702609012766, 'max_bins': 230, 'interactions': 1, 'min_samples_leaf': 42, 'max_leaves': 28}. Best is trial 12 with value: 0.7768488745980707.\n",
                        "[I 2025-04-06 21:17:17,709] Trial 18 finished with value: 0.7689345314505777 and parameters: {'learning_rate': 0.0212145737875863, 'max_bins': 485, 'interactions': 3, 'min_samples_leaf': 87, 'max_leaves': 11}. Best is trial 12 with value: 0.7768488745980707.\n",
                        "[I 2025-04-06 21:17:28,543] Trial 19 finished with value: 0.766859344894027 and parameters: {'learning_rate': 0.045787785885198086, 'max_bins': 412, 'interactions': 0, 'min_samples_leaf': 94, 'max_leaves': 6}. Best is trial 12 with value: 0.7768488745980707.\n",
                        "[I 2025-04-06 21:18:07,351] Trial 20 finished with value: 0.7589343729694606 and parameters: {'learning_rate': 0.2923165638453111, 'max_bins': 73, 'interactions': 2, 'min_samples_leaf': 78, 'max_leaves': 16}. Best is trial 12 with value: 0.7768488745980707.\n",
                        "[I 2025-04-06 21:18:53,326] Trial 21 finished with value: 0.7737789203084833 and parameters: {'learning_rate': 0.03041049608346162, 'max_bins': 374, 'interactions': 3, 'min_samples_leaf': 98, 'max_leaves': 2}. Best is trial 12 with value: 0.7768488745980707.\n",
                        "[I 2025-04-06 21:19:36,766] Trial 22 finished with value: 0.7741522712731925 and parameters: {'learning_rate': 0.028107953336767917, 'max_bins': 341, 'interactions': 4, 'min_samples_leaf': 100, 'max_leaves': 6}. Best is trial 12 with value: 0.7768488745980707.\n",
                        "[I 2025-04-06 21:20:20,225] Trial 23 finished with value: 0.7694283879254977 and parameters: {'learning_rate': 0.015089033042350338, 'max_bins': 239, 'interactions': 4, 'min_samples_leaf': 89, 'max_leaves': 9}. Best is trial 12 with value: 0.7768488745980707.\n",
                        "[I 2025-04-06 21:21:04,760] Trial 24 finished with value: 0.7618429591174561 and parameters: {'learning_rate': 0.025591700265029185, 'max_bins': 414, 'interactions': 4, 'min_samples_leaf': 78, 'max_leaves': 15}. Best is trial 12 with value: 0.7768488745980707.\n",
                        "[I 2025-04-06 21:21:50,266] Trial 25 finished with value: 0.7560182173064411 and parameters: {'learning_rate': 0.05292788607155538, 'max_bins': 474, 'interactions': 1, 'min_samples_leaf': 45, 'max_leaves': 22}. Best is trial 12 with value: 0.7768488745980707.\n",
                        "[I 2025-04-06 21:22:33,639] Trial 26 finished with value: 0.7730769230769231 and parameters: {'learning_rate': 0.02607094736109001, 'max_bins': 257, 'interactions': 4, 'min_samples_leaf': 66, 'max_leaves': 7}. Best is trial 12 with value: 0.7768488745980707.\n",
                        "[I 2025-04-06 21:23:17,324] Trial 27 finished with value: 0.7548891786179922 and parameters: {'learning_rate': 0.015492967337479313, 'max_bins': 327, 'interactions': 2, 'min_samples_leaf': 93, 'max_leaves': 28}. Best is trial 12 with value: 0.7768488745980707.\n",
                        "[I 2025-04-06 21:23:59,936] Trial 28 finished with value: 0.759379042690815 and parameters: {'learning_rate': 0.07138547518033254, 'max_bins': 447, 'interactions': 3, 'min_samples_leaf': 83, 'max_leaves': 14}. Best is trial 12 with value: 0.7768488745980707.\n",
                        "[I 2025-04-06 21:24:44,444] Trial 29 finished with value: 0.7740693196405648 and parameters: {'learning_rate': 0.04116217919223704, 'max_bins': 398, 'interactions': 2, 'min_samples_leaf': 72, 'max_leaves': 6}. Best is trial 12 with value: 0.7768488745980707.\n",
                        "[I 2025-04-06 21:25:25,719] Trial 30 finished with value: 0.7528015820698748 and parameters: {'learning_rate': 0.08201937188901912, 'max_bins': 330, 'interactions': 1, 'min_samples_leaf': 76, 'max_leaves': 35}. Best is trial 12 with value: 0.7768488745980707.\n",
                        "[I 2025-04-06 21:26:10,228] Trial 31 finished with value: 0.7705128205128206 and parameters: {'learning_rate': 0.04032838450992779, 'max_bins': 397, 'interactions': 2, 'min_samples_leaf': 72, 'max_leaves': 6}. Best is trial 12 with value: 0.7768488745980707.\n",
                        "[I 2025-04-06 21:26:58,363] Trial 32 finished with value: 0.7731958762886598 and parameters: {'learning_rate': 0.03108379709673725, 'max_bins': 421, 'interactions': 2, 'min_samples_leaf': 63, 'max_leaves': 2}. Best is trial 12 with value: 0.7768488745980707.\n",
                        "[I 2025-04-06 21:27:43,049] Trial 33 finished with value: 0.7719974309569685 and parameters: {'learning_rate': 0.04534441957180972, 'max_bins': 348, 'interactions': 2, 'min_samples_leaf': 93, 'max_leaves': 6}. Best is trial 12 with value: 0.7768488745980707.\n",
                        "[I 2025-04-06 21:28:29,067] Trial 34 finished with value: 0.7642487046632125 and parameters: {'learning_rate': 0.023018473001071557, 'max_bins': 494, 'interactions': 1, 'min_samples_leaf': 82, 'max_leaves': 13}. Best is trial 12 with value: 0.7768488745980707.\n",
                        "[I 2025-04-06 21:28:39,690] Trial 35 finished with value: 0.7686375321336761 and parameters: {'learning_rate': 0.06055094744057411, 'max_bins': 457, 'interactions': 0, 'min_samples_leaf': 59, 'max_leaves': 5}. Best is trial 12 with value: 0.7768488745980707.\n",
                        "[I 2025-04-06 21:29:23,941] Trial 36 finished with value: 0.7647440051847051 and parameters: {'learning_rate': 0.08485162927118477, 'max_bins': 388, 'interactions': 3, 'min_samples_leaf': 46, 'max_leaves': 9}. Best is trial 12 with value: 0.7768488745980707.\n",
                        "[I 2025-04-06 21:30:07,363] Trial 37 finished with value: 0.7619047619047619 and parameters: {'learning_rate': 0.03517138296830259, 'max_bins': 428, 'interactions': 2, 'min_samples_leaf': 75, 'max_leaves': 19}. Best is trial 12 with value: 0.7768488745980707.\n",
                        "[I 2025-04-06 21:30:56,742] Trial 38 finished with value: 0.7316421895861148 and parameters: {'learning_rate': 0.016864055087196413, 'max_bins': 274, 'interactions': 1, 'min_samples_leaf': 9, 'max_leaves': 60}. Best is trial 12 with value: 0.7768488745980707.\n",
                        "[I 2025-04-06 21:31:44,104] Trial 39 finished with value: 0.7601043024771839 and parameters: {'learning_rate': 0.027003289616698838, 'max_bins': 509, 'interactions': 4, 'min_samples_leaf': 38, 'max_leaves': 25}. Best is trial 12 with value: 0.7768488745980707.\n",
                        "[I 2025-04-06 21:32:31,020] Trial 40 finished with value: 0.7673363577446533 and parameters: {'learning_rate': 0.10405039789512407, 'max_bins': 360, 'interactions': 5, 'min_samples_leaf': 19, 'max_leaves': 12}. Best is trial 12 with value: 0.7768488745980707.\n",
                        "[I 2025-04-06 21:33:15,344] Trial 41 finished with value: 0.777706598334401 and parameters: {'learning_rate': 0.030363409218644333, 'max_bins': 309, 'interactions': 3, 'min_samples_leaf': 100, 'max_leaves': 2}. Best is trial 41 with value: 0.777706598334401.\n",
                        "[I 2025-04-06 21:33:59,928] Trial 42 finished with value: 0.7769230769230769 and parameters: {'learning_rate': 0.02953165818660369, 'max_bins': 309, 'interactions': 3, 'min_samples_leaf': 100, 'max_leaves': 2}. Best is trial 41 with value: 0.777706598334401.\n",
                        "[I 2025-04-06 21:34:45,858] Trial 43 finished with value: 0.7734021949644933 and parameters: {'learning_rate': 0.010805682812113276, 'max_bins': 299, 'interactions': 3, 'min_samples_leaf': 100, 'max_leaves': 4}. Best is trial 41 with value: 0.777706598334401.\n",
                        "[I 2025-04-06 21:35:28,685] Trial 44 finished with value: 0.7771355170199101 and parameters: {'learning_rate': 0.029007796961995302, 'max_bins': 147, 'interactions': 4, 'min_samples_leaf': 94, 'max_leaves': 2}. Best is trial 41 with value: 0.777706598334401.\n",
                        "[I 2025-04-06 21:36:11,170] Trial 45 finished with value: 0.7743589743589744 and parameters: {'learning_rate': 0.022884868845979275, 'max_bins': 155, 'interactions': 4, 'min_samples_leaf': 94, 'max_leaves': 2}. Best is trial 41 with value: 0.777706598334401.\n",
                        "[I 2025-04-06 21:36:53,512] Trial 46 finished with value: 0.7741522712731925 and parameters: {'learning_rate': 0.022235709320047047, 'max_bins': 110, 'interactions': 4, 'min_samples_leaf': 93, 'max_leaves': 2}. Best is trial 41 with value: 0.777706598334401.\n",
                        "[I 2025-04-06 21:37:34,606] Trial 47 finished with value: 0.7547666009204471 and parameters: {'learning_rate': 0.03342697232287197, 'max_bins': 149, 'interactions': 3, 'min_samples_leaf': 95, 'max_leaves': 39}. Best is trial 41 with value: 0.777706598334401.\n",
                        "[I 2025-04-06 21:38:17,142] Trial 48 finished with value: 0.767052767052767 and parameters: {'learning_rate': 0.01792907385597452, 'max_bins': 142, 'interactions': 5, 'min_samples_leaf': 84, 'max_leaves': 9}. Best is trial 41 with value: 0.777706598334401.\n",
                        "[I 2025-04-06 21:39:03,955] Trial 49 finished with value: 0.7746933505487411 and parameters: {'learning_rate': 0.012841029512628454, 'max_bins': 198, 'interactions': 4, 'min_samples_leaf': 88, 'max_leaves': 2}. Best is trial 41 with value: 0.777706598334401.\n"
                    ]
                },
                {
                    "name": "stdout",
                    "output_type": "stream",
                    "text": [
                        "Best parameters: {'learning_rate': 0.030363409218644333, 'max_bins': 309, 'interactions': 3, 'min_samples_leaf': 100, 'max_leaves': 2}\n",
                        "Best F1 score: 0.777706598334401\n"
                    ]
                }
            ],
            "source": [
                "import optuna\n",
                "from interpret.glassbox import ExplainableBoostingClassifier\n",
                "from sklearn.metrics import f1_score\n",
                "from sklearn.model_selection import train_test_split\n",
                "import numpy as np\n",
                "\n",
                "def objective(trial):\n",
                "    # Define the search space\n",
                "    learning_rate = trial.suggest_float(\"learning_rate\", 0.01, 0.3, log=True)\n",
                "    max_bins = trial.suggest_int(\"max_bins\", 64, 512)\n",
                "    interactions = trial.suggest_int(\"interactions\", 0, 5)\n",
                "    min_samples_leaf = trial.suggest_int(\"min_samples_leaf\", 2, 100)\n",
                "    max_leaves = trial.suggest_int(\"max_leaves\", 2, 64)\n",
                "    \n",
                "    ebm = ExplainableBoostingClassifier(\n",
                "        learning_rate=learning_rate,\n",
                "        max_bins=max_bins,\n",
                "        interactions=interactions,\n",
                "        min_samples_leaf=min_samples_leaf,\n",
                "        max_leaves=max_leaves,\n",
                "        n_jobs=-2\n",
                "    )\n",
                "    \n",
                "    ebm.fit(X_train_pos, y_train_pos)\n",
                "    y_pred = ebm.predict(X_test_pos)\n",
                "\n",
                "    return f1_score(y_test_pos, y_pred)\n",
                "\n",
                "# Run the study\n",
                "study = optuna.create_study(direction=\"maximize\")\n",
                "study.optimize(objective, n_trials=50)\n",
                "\n",
                "print(\"Best parameters:\", study.best_params)\n",
                "print(\"Best F1 score:\", study.best_value)\n"
            ]
        },
        {
            "cell_type": "code",
            "execution_count": 34,
            "metadata": {},
            "outputs": [
                {
                    "name": "stdout",
                    "output_type": "stream",
                    "text": [
                        "              precision    recall  f1-score   support\n",
                        "\n",
                        "           0       0.84      0.85      0.85      1108\n",
                        "           1       0.79      0.77      0.78       793\n",
                        "\n",
                        "    accuracy                           0.82      1901\n",
                        "   macro avg       0.81      0.81      0.81      1901\n",
                        "weighted avg       0.82      0.82      0.82      1901\n",
                        "\n"
                    ]
                }
            ],
            "source": [
                "best_ebm = ExplainableBoostingClassifier(\n",
                "    **study.best_params,\n",
                "    n_jobs=-2\n",
                ")\n",
                "best_ebm.fit(X_train_pos, y_train_pos)\n",
                "\n",
                "from sklearn.metrics import classification_report\n",
                "print(classification_report(y_test_pos, best_ebm.predict(X_test_pos)))\n"
            ]
        },
        {
            "cell_type": "markdown",
            "metadata": {},
            "source": [
                "## Model Evaluation"
            ]
        },
        {
            "cell_type": "code",
            "execution_count": 35,
            "metadata": {},
            "outputs": [
                {
                    "name": "stdout",
                    "output_type": "stream",
                    "text": [
                        "Test Accuracy: 0.8090478695423461\n",
                        "              precision    recall  f1-score   support\n",
                        "\n",
                        "           0       0.83      0.85      0.84      1108\n",
                        "           1       0.78      0.75      0.77       793\n",
                        "\n",
                        "    accuracy                           0.81      1901\n",
                        "   macro avg       0.80      0.80      0.80      1901\n",
                        "weighted avg       0.81      0.81      0.81      1901\n",
                        "\n"
                    ]
                },
                {
                    "data": {
                        "image/png": "[encoded data removed]",
                        "text/plain": [
                            "<Figure size 640x480 with 2 Axes>"
                        ]
                    },
                    "metadata": {},
                    "output_type": "display_data"
                }
            ],
            "source": [
                "# Make predictions on the test set\n",
                "y_pred = ebm.predict(X_test_pos)\n",
                "\n",
                "# Evaluate accuracy\n",
                "accuracy = accuracy_score(y_test_pos, y_pred)\n",
                "print('Test Accuracy:', accuracy)\n",
                "\n",
                "# Display classification report\n",
                "print(classification_report(y_test_pos, y_pred))\n",
                "\n",
                "# Plot confusion matrix\n",
                "cm = confusion_matrix(y_test_pos, y_pred)\n",
                "sns.heatmap(cm, annot=True, fmt='d', cmap='Blues')\n",
                "plt.xlabel('Predicted')\n",
                "plt.ylabel('True')\n",
                "plt.show()"
            ]
        },
        {
            "cell_type": "code",
            "execution_count": 36,
            "metadata": {},
            "outputs": [
                {
                    "data": {
                        "text/html": [
                            "<!-- http://127.0.0.1:7001/2194007601424/ -->\n",
                            "<iframe src=\"http://127.0.0.1:7001/2194007601424/\" width=100% height=800 frameBorder=\"0\"></iframe>"
                        ]
                    },
                    "metadata": {},
                    "output_type": "display_data"
                },
                {
                    "data": {
                        "text/html": [
                            "<!-- http://127.0.0.1:7001/2193999564768/ -->\n",
                            "<iframe src=\"http://127.0.0.1:7001/2193999564768/\" width=100% height=800 frameBorder=\"0\"></iframe>"
                        ]
                    },
                    "metadata": {},
                    "output_type": "display_data"
                }
            ],
            "source": [
                "# Global explanation\n",
                "global_explanation = ebm.explain_global()\n",
                "show(global_explanation)\n",
                "\n",
                "# Local explanation for the first 5 instances\n",
                "local_explanation = ebm.explain_local(X_test_pos.iloc[:5], y_test_pos.iloc[:5])\n",
                "show(local_explanation)"
            ]
        },
        {
            "cell_type": "code",
            "execution_count": 37,
            "metadata": {},
            "outputs": [
                {
                    "name": "stdout",
                    "output_type": "stream",
                    "text": [
                        "Accuracy: 0.8691292486912925\n",
                        "F1 Score: 0.4341727765380937\n"
                    ]
                },
                {
                    "data": {
                        "text/html": [
                            "<!-- http://127.0.0.1:7001/2197509747248/ -->\n",
                            "<iframe src=\"http://127.0.0.1:7001/2197509747248/\" width=100% height=800 frameBorder=\"0\"></iframe>"
                        ]
                    },
                    "metadata": {},
                    "output_type": "display_data"
                }
            ],
            "source": [
                "ebm = ExplainableBoostingClassifier(\n",
                "    learning_rate=0.001,\n",
                "    max_bins=512,\n",
                "    interactions=100,\n",
                "    min_samples_leaf=100,\n",
                "    early_stopping_rounds=50,\n",
                "    n_jobs=-2, \n",
                "    random_state=42\n",
                ")\n",
                "\n",
                "from sklearn.utils.class_weight import compute_sample_weight\n",
                "\n",
                "# Compute weights based on class distribution\n",
                "sample_weights = compute_sample_weight(class_weight=\"balanced\", y=y_train_neg)\n",
                "\n",
                "# Train EBM with sample weights\n",
                "ebm.fit(X_train_neg, y_train_neg, sample_weight=sample_weights)\n",
                "\n",
                "#ebm.fit(X_train_neg, y_train_neg)\n",
                "\n",
                "# Make predictions\n",
                "y_pred_neg = ebm.predict(X_test_neg)\n",
                "print(\"Accuracy:\", accuracy_score(y_test_neg, y_pred_neg))\n",
                "# F1 score\n",
                "from sklearn.metrics import f1_score\n",
                "print(\"F1 Score:\", f1_score(y_test_neg, y_pred_neg))\n",
                "\n",
                "# Show feature importance\n",
                "show(ebm.explain_global())"
            ]
        },
        {
            "cell_type": "code",
            "execution_count": 38,
            "metadata": {},
            "outputs": [
                {
                    "name": "stderr",
                    "output_type": "stream",
                    "text": [
                        "[I 2025-04-06 21:44:21,476] A new study created in memory with name: no-name-8396679d-f31b-482a-9d04-81e8a3d1d10c\n",
                        "[I 2025-04-06 21:46:00,995] Trial 0 finished with value: 0.33204633204633205 and parameters: {'learning_rate': 0.013679154105825509, 'max_bins': 230, 'interactions': 1, 'min_samples_leaf': 89, 'max_leaves': 50}. Best is trial 0 with value: 0.33204633204633205.\n",
                        "[I 2025-04-06 21:47:38,203] Trial 1 finished with value: 0.3780821917808219 and parameters: {'learning_rate': 0.04719032743881026, 'max_bins': 117, 'interactions': 3, 'min_samples_leaf': 59, 'max_leaves': 24}. Best is trial 1 with value: 0.3780821917808219.\n",
                        "[I 2025-04-06 21:49:02,265] Trial 2 finished with value: 0.3396584440227704 and parameters: {'learning_rate': 0.16789553954331393, 'max_bins': 237, 'interactions': 5, 'min_samples_leaf': 69, 'max_leaves': 50}. Best is trial 1 with value: 0.3780821917808219.\n",
                        "[I 2025-04-06 21:50:25,916] Trial 3 finished with value: 0.3656509695290859 and parameters: {'learning_rate': 0.20523782960362058, 'max_bins': 154, 'interactions': 3, 'min_samples_leaf': 40, 'max_leaves': 34}. Best is trial 1 with value: 0.3780821917808219.\n",
                        "[I 2025-04-06 21:51:48,176] Trial 4 finished with value: 0.33491912464319695 and parameters: {'learning_rate': 0.21595349153679946, 'max_bins': 131, 'interactions': 3, 'min_samples_leaf': 90, 'max_leaves': 53}. Best is trial 1 with value: 0.3780821917808219.\n",
                        "[I 2025-04-06 21:53:29,185] Trial 5 finished with value: 0.3527204502814259 and parameters: {'learning_rate': 0.02981736186653583, 'max_bins': 361, 'interactions': 1, 'min_samples_leaf': 17, 'max_leaves': 34}. Best is trial 1 with value: 0.3780821917808219.\n",
                        "[I 2025-04-06 21:55:08,576] Trial 6 finished with value: 0.44932432432432434 and parameters: {'learning_rate': 0.025496295503226997, 'max_bins': 309, 'interactions': 3, 'min_samples_leaf': 59, 'max_leaves': 4}. Best is trial 6 with value: 0.44932432432432434.\n",
                        "[I 2025-04-06 21:56:33,303] Trial 7 finished with value: 0.3285302593659942 and parameters: {'learning_rate': 0.13079099335769886, 'max_bins': 317, 'interactions': 1, 'min_samples_leaf': 15, 'max_leaves': 52}. Best is trial 6 with value: 0.44932432432432434.\n",
                        "[I 2025-04-06 21:58:11,638] Trial 8 finished with value: 0.3884372177055104 and parameters: {'learning_rate': 0.10334621386083269, 'max_bins': 371, 'interactions': 3, 'min_samples_leaf': 34, 'max_leaves': 18}. Best is trial 6 with value: 0.44932432432432434.\n",
                        "[I 2025-04-06 21:59:44,798] Trial 9 finished with value: 0.32201745877788557 and parameters: {'learning_rate': 0.05441752340550863, 'max_bins': 360, 'interactions': 3, 'min_samples_leaf': 59, 'max_leaves': 60}. Best is trial 6 with value: 0.44932432432432434.\n",
                        "[I 2025-04-06 22:01:37,609] Trial 10 finished with value: 0.43410852713178294 and parameters: {'learning_rate': 0.010688628488140218, 'max_bins': 508, 'interactions': 5, 'min_samples_leaf': 76, 'max_leaves': 4}. Best is trial 6 with value: 0.44932432432432434.\n",
                        "[I 2025-04-06 22:03:29,211] Trial 11 finished with value: 0.43005181347150256 and parameters: {'learning_rate': 0.01148369969545153, 'max_bins': 511, 'interactions': 5, 'min_samples_leaf': 76, 'max_leaves': 4}. Best is trial 6 with value: 0.44932432432432434.\n",
                        "[I 2025-04-06 22:05:16,549] Trial 12 finished with value: 0.4470588235294118 and parameters: {'learning_rate': 0.022072392180863844, 'max_bins': 468, 'interactions': 4, 'min_samples_leaf': 75, 'max_leaves': 2}. Best is trial 6 with value: 0.44932432432432434.\n",
                        "[I 2025-04-06 22:06:58,674] Trial 13 finished with value: 0.3985637342908438 and parameters: {'learning_rate': 0.02562305763761922, 'max_bins': 438, 'interactions': 4, 'min_samples_leaf': 44, 'max_leaves': 14}. Best is trial 6 with value: 0.44932432432432434.\n",
                        "[I 2025-04-06 22:08:46,189] Trial 14 finished with value: 0.4416243654822335 and parameters: {'learning_rate': 0.0220506873044412, 'max_bins': 445, 'interactions': 2, 'min_samples_leaf': 57, 'max_leaves': 2}. Best is trial 6 with value: 0.44932432432432434.\n",
                        "[I 2025-04-06 22:10:26,555] Trial 15 finished with value: 0.40213523131672596 and parameters: {'learning_rate': 0.018585134230162056, 'max_bins': 291, 'interactions': 4, 'min_samples_leaf': 97, 'max_leaves': 13}. Best is trial 6 with value: 0.44932432432432434.\n",
                        "[I 2025-04-06 22:10:56,719] Trial 16 finished with value: 0.3681776133209991 and parameters: {'learning_rate': 0.037425861440082614, 'max_bins': 200, 'interactions': 0, 'min_samples_leaf': 31, 'max_leaves': 26}. Best is trial 6 with value: 0.44932432432432434.\n",
                        "[I 2025-04-06 22:12:34,971] Trial 17 finished with value: 0.4067495559502664 and parameters: {'learning_rate': 0.07668229911645766, 'max_bins': 411, 'interactions': 4, 'min_samples_leaf': 69, 'max_leaves': 11}. Best is trial 6 with value: 0.44932432432432434.\n",
                        "[I 2025-04-06 22:14:12,034] Trial 18 finished with value: 0.36614535418583255 and parameters: {'learning_rate': 0.0171993197176129, 'max_bins': 78, 'interactions': 2, 'min_samples_leaf': 81, 'max_leaves': 25}. Best is trial 6 with value: 0.44932432432432434.\n",
                        "[I 2025-04-06 22:15:50,859] Trial 19 finished with value: 0.33744075829383885 and parameters: {'learning_rate': 0.034955800793193624, 'max_bins': 313, 'interactions': 4, 'min_samples_leaf': 51, 'max_leaves': 41}. Best is trial 6 with value: 0.44932432432432434.\n",
                        "[I 2025-04-06 22:17:29,590] Trial 20 finished with value: 0.4154250657318142 and parameters: {'learning_rate': 0.0803054977552342, 'max_bins': 471, 'interactions': 2, 'min_samples_leaf': 65, 'max_leaves': 8}. Best is trial 6 with value: 0.44932432432432434.\n",
                        "[I 2025-04-06 22:19:11,450] Trial 21 finished with value: 0.428694900605013 and parameters: {'learning_rate': 0.024868391333516426, 'max_bins': 425, 'interactions': 2, 'min_samples_leaf': 54, 'max_leaves': 5}. Best is trial 6 with value: 0.44932432432432434.\n",
                        "[I 2025-04-06 22:21:03,033] Trial 22 finished with value: 0.4423728813559322 and parameters: {'learning_rate': 0.018645749105227306, 'max_bins': 470, 'interactions': 2, 'min_samples_leaf': 4, 'max_leaves': 2}. Best is trial 6 with value: 0.44932432432432434.\n",
                        "[I 2025-04-06 22:22:48,064] Trial 23 finished with value: 0.3890909090909091 and parameters: {'learning_rate': 0.016130225705765448, 'max_bins': 476, 'interactions': 4, 'min_samples_leaf': 22, 'max_leaves': 19}. Best is trial 6 with value: 0.44932432432432434.\n",
                        "[I 2025-04-06 22:24:31,008] Trial 24 finished with value: 0.41762114537444933 and parameters: {'learning_rate': 0.0389001459482206, 'max_bins': 399, 'interactions': 2, 'min_samples_leaf': 2, 'max_leaves': 9}. Best is trial 6 with value: 0.44932432432432434.\n",
                        "[I 2025-04-06 22:25:05,018] Trial 25 finished with value: 0.3989169675090253 and parameters: {'learning_rate': 0.021840368972915376, 'max_bins': 478, 'interactions': 0, 'min_samples_leaf': 43, 'max_leaves': 16}. Best is trial 6 with value: 0.44932432432432434.\n",
                        "[I 2025-04-06 22:26:52,152] Trial 26 finished with value: 0.4410517387616624 and parameters: {'learning_rate': 0.015999659686237275, 'max_bins': 263, 'interactions': 3, 'min_samples_leaf': 4, 'max_leaves': 2}. Best is trial 6 with value: 0.44932432432432434.\n",
                        "[I 2025-04-06 22:28:34,913] Trial 27 finished with value: 0.42980935875216636 and parameters: {'learning_rate': 0.013191864702072436, 'max_bins': 393, 'interactions': 1, 'min_samples_leaf': 82, 'max_leaves': 8}. Best is trial 6 with value: 0.44932432432432434.\n",
                        "[I 2025-04-06 22:30:14,740] Trial 28 finished with value: 0.4165202108963093 and parameters: {'learning_rate': 0.03041062492958106, 'max_bins': 343, 'interactions': 4, 'min_samples_leaf': 64, 'max_leaves': 10}. Best is trial 6 with value: 0.44932432432432434.\n",
                        "[I 2025-04-06 22:31:50,966] Trial 29 finished with value: 0.38727272727272727 and parameters: {'learning_rate': 0.06885445288492059, 'max_bins': 197, 'interactions': 1, 'min_samples_leaf': 99, 'max_leaves': 20}. Best is trial 6 with value: 0.44932432432432434.\n",
                        "[I 2025-04-06 22:33:35,387] Trial 30 finished with value: 0.34535104364326374 and parameters: {'learning_rate': 0.013026301855076736, 'max_bins': 332, 'interactions': 5, 'min_samples_leaf': 27, 'max_leaves': 40}. Best is trial 6 with value: 0.44932432432432434.\n",
                        "[I 2025-04-06 22:35:18,094] Trial 31 finished with value: 0.42068361086765993 and parameters: {'learning_rate': 0.020367737314246875, 'max_bins': 433, 'interactions': 2, 'min_samples_leaf': 50, 'max_leaves': 6}. Best is trial 6 with value: 0.44932432432432434.\n",
                        "[I 2025-04-06 22:37:00,740] Trial 32 finished with value: 0.4423728813559322 and parameters: {'learning_rate': 0.024523113316329823, 'max_bins': 458, 'interactions': 2, 'min_samples_leaf': 57, 'max_leaves': 3}. Best is trial 6 with value: 0.44932432432432434.\n",
                        "[I 2025-04-06 22:38:40,672] Trial 33 finished with value: 0.454469507101086 and parameters: {'learning_rate': 0.0467417499027794, 'max_bins': 460, 'interactions': 3, 'min_samples_leaf': 74, 'max_leaves': 2}. Best is trial 33 with value: 0.454469507101086.\n",
                        "[I 2025-04-06 22:40:20,873] Trial 34 finished with value: 0.39820627802690584 and parameters: {'learning_rate': 0.04562563162223367, 'max_bins': 505, 'interactions': 3, 'min_samples_leaf': 88, 'max_leaves': 14}. Best is trial 33 with value: 0.454469507101086.\n",
                        "[I 2025-04-06 22:42:00,167] Trial 35 finished with value: 0.4258289703315881 and parameters: {'learning_rate': 0.04828590829602961, 'max_bins': 393, 'interactions': 3, 'min_samples_leaf': 73, 'max_leaves': 7}. Best is trial 33 with value: 0.454469507101086.\n",
                        "[I 2025-04-06 22:43:41,165] Trial 36 finished with value: 0.3810391978122151 and parameters: {'learning_rate': 0.029331092726673932, 'max_bins': 482, 'interactions': 3, 'min_samples_leaf': 84, 'max_leaves': 22}. Best is trial 33 with value: 0.454469507101086.\n",
                        "[I 2025-04-06 22:45:19,516] Trial 37 finished with value: 0.41306266548984993 and parameters: {'learning_rate': 0.04431955427361012, 'max_bins': 249, 'interactions': 4, 'min_samples_leaf': 65, 'max_leaves': 11}. Best is trial 33 with value: 0.454469507101086.\n",
                        "[I 2025-04-06 22:46:56,261] Trial 38 finished with value: 0.36229205175600737 and parameters: {'learning_rate': 0.05890210897624925, 'max_bins': 179, 'interactions': 3, 'min_samples_leaf': 69, 'max_leaves': 31}. Best is trial 33 with value: 0.454469507101086.\n",
                        "[I 2025-04-06 22:48:35,681] Trial 39 finished with value: 0.42408376963350786 and parameters: {'learning_rate': 0.03282222989539139, 'max_bins': 379, 'interactions': 3, 'min_samples_leaf': 93, 'max_leaves': 6}. Best is trial 33 with value: 0.454469507101086.\n",
                        "[I 2025-04-06 22:50:29,287] Trial 40 finished with value: 0.43898305084745765 and parameters: {'learning_rate': 0.014989897260384298, 'max_bins': 417, 'interactions': 4, 'min_samples_leaf': 8, 'max_leaves': 2}. Best is trial 33 with value: 0.454469507101086.\n",
                        "[I 2025-04-06 22:52:14,850] Trial 41 finished with value: 0.44350758853288363 and parameters: {'learning_rate': 0.024573290291856918, 'max_bins': 453, 'interactions': 2, 'min_samples_leaf': 62, 'max_leaves': 2}. Best is trial 33 with value: 0.454469507101086.\n",
                        "[I 2025-04-06 22:53:54,247] Trial 42 finished with value: 0.31640625 and parameters: {'learning_rate': 0.026930887276073075, 'max_bins': 455, 'interactions': 2, 'min_samples_leaf': 61, 'max_leaves': 64}. Best is trial 33 with value: 0.454469507101086.\n",
                        "[I 2025-04-06 22:55:37,804] Trial 43 finished with value: 0.4236111111111111 and parameters: {'learning_rate': 0.01953283252688679, 'max_bins': 452, 'interactions': 1, 'min_samples_leaf': 47, 'max_leaves': 6}. Best is trial 33 with value: 0.454469507101086.\n",
                        "[I 2025-04-06 22:57:19,980] Trial 44 finished with value: 0.40744021257750224 and parameters: {'learning_rate': 0.02283559947078311, 'max_bins': 493, 'interactions': 3, 'min_samples_leaf': 75, 'max_leaves': 12}. Best is trial 33 with value: 0.454469507101086.\n",
                        "[I 2025-04-06 22:58:58,555] Trial 45 finished with value: 0.4393553859202714 and parameters: {'learning_rate': 0.2743755907752408, 'max_bins': 491, 'interactions': 2, 'min_samples_leaf': 37, 'max_leaves': 2}. Best is trial 33 with value: 0.454469507101086.\n",
                        "[I 2025-04-06 23:00:35,612] Trial 46 finished with value: 0.39421338155515373 and parameters: {'learning_rate': 0.11004004450503654, 'max_bins': 462, 'interactions': 1, 'min_samples_leaf': 79, 'max_leaves': 15}. Best is trial 33 with value: 0.454469507101086.\n",
                        "[I 2025-04-06 23:02:19,788] Trial 47 finished with value: 0.4379310344827586 and parameters: {'learning_rate': 0.011108657487576657, 'max_bins': 440, 'interactions': 5, 'min_samples_leaf': 71, 'max_leaves': 9}. Best is trial 33 with value: 0.454469507101086.\n",
                        "[I 2025-04-06 23:03:59,147] Trial 48 finished with value: 0.41986062717770034 and parameters: {'learning_rate': 0.03952135118025065, 'max_bins': 358, 'interactions': 3, 'min_samples_leaf': 86, 'max_leaves': 5}. Best is trial 33 with value: 0.454469507101086.\n",
                        "[I 2025-04-06 23:05:39,023] Trial 49 finished with value: 0.3673469387755102 and parameters: {'learning_rate': 0.018157144271273407, 'max_bins': 290, 'interactions': 2, 'min_samples_leaf': 78, 'max_leaves': 28}. Best is trial 33 with value: 0.454469507101086.\n"
                    ]
                },
                {
                    "name": "stdout",
                    "output_type": "stream",
                    "text": [
                        "Best parameters: {'learning_rate': 0.0467417499027794, 'max_bins': 460, 'interactions': 3, 'min_samples_leaf': 74, 'max_leaves': 2}\n",
                        "Best F1 score: 0.454469507101086\n"
                    ]
                }
            ],
            "source": [
                "import optuna\n",
                "from interpret.glassbox import ExplainableBoostingClassifier\n",
                "from sklearn.metrics import f1_score\n",
                "from sklearn.model_selection import train_test_split\n",
                "import numpy as np\n",
                "\n",
                "def objective(trial):\n",
                "    # Define the search space\n",
                "    learning_rate = trial.suggest_float(\"learning_rate\", 0.01, 0.3, log=True)\n",
                "    max_bins = trial.suggest_int(\"max_bins\", 64, 512)\n",
                "    interactions = trial.suggest_int(\"interactions\", 0, 5)\n",
                "    min_samples_leaf = trial.suggest_int(\"min_samples_leaf\", 2, 100)\n",
                "    max_leaves = trial.suggest_int(\"max_leaves\", 2, 64)\n",
                "    \n",
                "    ebm = ExplainableBoostingClassifier(\n",
                "        learning_rate=learning_rate,\n",
                "        max_bins=max_bins,\n",
                "        interactions=interactions,\n",
                "        min_samples_leaf=min_samples_leaf,\n",
                "        max_leaves=max_leaves,\n",
                "        n_jobs=-2\n",
                "    )\n",
                "    \n",
                "    ebm.fit(X_train_neg, y_train_neg)\n",
                "    y_pred = ebm.predict(X_test_neg)\n",
                "\n",
                "    return f1_score(y_test_neg, y_pred)\n",
                "\n",
                "# Run the study\n",
                "study = optuna.create_study(direction=\"maximize\")\n",
                "study.optimize(objective, n_trials=50)\n",
                "\n",
                "print(\"Best parameters:\", study.best_params)\n",
                "print(\"Best F1 score:\", study.best_value)\n"
            ]
        },
        {
            "cell_type": "code",
            "execution_count": 39,
            "metadata": {},
            "outputs": [
                {
                    "name": "stdout",
                    "output_type": "stream",
                    "text": [
                        "              precision    recall  f1-score   support\n",
                        "\n",
                        "           0       0.96      0.99      0.97     12762\n",
                        "           1       0.68      0.32      0.44       801\n",
                        "\n",
                        "    accuracy                           0.95     13563\n",
                        "   macro avg       0.82      0.66      0.71     13563\n",
                        "weighted avg       0.94      0.95      0.94     13563\n",
                        "\n"
                    ]
                }
            ],
            "source": [
                "best_ebm = ExplainableBoostingClassifier(\n",
                "    **study.best_params,\n",
                "    inner_bags=20,\n",
                "    n_jobs=-2\n",
                ")\n",
                "best_ebm.fit(X_train_neg, y_train_neg)\n",
                "\n",
                "from sklearn.metrics import classification_report\n",
                "print(classification_report(y_test_neg, best_ebm.predict(X_test_neg)))\n"
            ]
        },
        {
            "cell_type": "code",
            "execution_count": 40,
            "metadata": {},
            "outputs": [
                {
                    "name": "stdout",
                    "output_type": "stream",
                    "text": [
                        "Test Accuracy: 0.8691292486912925\n",
                        "              precision    recall  f1-score   support\n",
                        "\n",
                        "           0       0.99      0.87      0.93     12762\n",
                        "           1       0.29      0.85      0.43       801\n",
                        "\n",
                        "    accuracy                           0.87     13563\n",
                        "   macro avg       0.64      0.86      0.68     13563\n",
                        "weighted avg       0.95      0.87      0.90     13563\n",
                        "\n"
                    ]
                },
                {
                    "data": {
                        "image/png": "[encoded data removed]",
                        "text/plain": [
                            "<Figure size 640x480 with 2 Axes>"
                        ]
                    },
                    "metadata": {},
                    "output_type": "display_data"
                }
            ],
            "source": [
                "# Make predictions on the test set\n",
                "y_pred = ebm.predict(X_test_neg)\n",
                "\n",
                "# Evaluate accuracy\n",
                "accuracy = accuracy_score(y_test_neg, y_pred)\n",
                "print('Test Accuracy:', accuracy)\n",
                "\n",
                "# Display classification report\n",
                "print(classification_report(y_test_neg, y_pred))\n",
                "\n",
                "# Plot confusion matrix\n",
                "cm = confusion_matrix(y_test_neg, y_pred)\n",
                "sns.heatmap(cm, annot=True, fmt='d', cmap='Blues')\n",
                "plt.xlabel('Predicted')\n",
                "plt.ylabel('True')\n",
                "plt.show()"
            ]
        },
        {
            "cell_type": "code",
            "execution_count": 41,
            "metadata": {},
            "outputs": [
                {
                    "data": {
                        "text/html": [
                            "<!-- http://127.0.0.1:7001/2193997716544/ -->\n",
                            "<iframe src=\"http://127.0.0.1:7001/2193997716544/\" width=100% height=800 frameBorder=\"0\"></iframe>"
                        ]
                    },
                    "metadata": {},
                    "output_type": "display_data"
                },
                {
                    "data": {
                        "text/html": [
                            "<!-- http://127.0.0.1:7001/2197509606576/ -->\n",
                            "<iframe src=\"http://127.0.0.1:7001/2197509606576/\" width=100% height=800 frameBorder=\"0\"></iframe>"
                        ]
                    },
                    "metadata": {},
                    "output_type": "display_data"
                }
            ],
            "source": [
                "# Global explanation\n",
                "global_explanation = ebm.explain_global()\n",
                "show(global_explanation)\n",
                "\n",
                "# Local explanation for the first 5 instances\n",
                "local_explanation = ebm.explain_local(X_test_neg.iloc[:5], y_test_neg.iloc[:5])\n",
                "show(local_explanation)"
            ]
        }
    ],
    "metadata": {
        "kernelspec": {
            "display_name": "ebm_env",
            "language": "python",
            "name": "python3"
        },
        "language_info": {
            "codemirror_mode": {
                "name": "ipython",
                "version": 3
            },
            "file_extension": ".py",
            "mimetype": "text/x-python",
            "name": "python",
            "nbconvert_exporter": "python",
            "pygments_lexer": "ipython3",
            "version": "3.12.7"
        }
    },
    "nbformat": 4,
    "nbformat_minor": 2
}
